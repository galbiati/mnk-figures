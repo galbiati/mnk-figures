{
 "cells": [
  {
   "cell_type": "markdown",
   "metadata": {},
   "source": [
    "## Import packages"
   ]
  },
  {
   "cell_type": "code",
   "execution_count": null,
   "metadata": {
    "collapsed": false
   },
   "outputs": [],
   "source": [
    "import os\n",
    "from collections import OrderedDict as ordict\n",
    "import pandas as pd\n",
    "import numpy as np\n",
    "import matplotlib\n",
    "import matplotlib.pyplot as plt\n",
    "from matplotlib.gridspec import GridSpec\n",
    "import seaborn as sns                                # $:~ conda install seaborn\n",
    "import scipy.stats as stats\n",
    "import scipy.optimize as opt\n",
    "\n",
    "%matplotlib inline"
   ]
  },
  {
   "cell_type": "markdown",
   "metadata": {},
   "source": [
    "## Style settings"
   ]
  },
  {
   "cell_type": "code",
   "execution_count": null,
   "metadata": {
    "collapsed": false
   },
   "outputs": [],
   "source": [
    "sns.set_style('white')\n",
    "sns.set_context('paper')\n",
    "sns.set_palette(sns.dark_palette('blue'))\n",
    "\n",
    "matplotlib.rcParams['xtick.labelsize'] = 14\n",
    "matplotlib.rcParams['ytick.labelsize'] = 14\n",
    "matplotlib.rcParams['axes.labelsize'] = 16\n",
    "matplotlib.rcParams['legend.fontsize'] = 14\n",
    "matplotlib.rcParams['mathtext.fontset'] = 'custom'\n",
    "matplotlib.rcParams['mathtext.rm'] = 'Bitstream Vera Sans'\n",
    "matplotlib.rcParams['mathtext.default'] = 'rm'\n",
    "matplotlib.rcParams['mathtext.it'] = 'Bitstream Vera Sans:italic'\n",
    "matplotlib.rcParams['mathtext.bf'] = 'Bitstream Vera Sans:bold'\n",
    "\n",
    "greens = sns.cubehelix_palette(n_colors=5, start=2.0, rot=.2, gamma=1, hue=.8, light=.8, dark=.15)\n",
    "reds = sns.cubehelix_palette(n_colors=3, start=0.8, rot=.1, gamma=.7, hue=2, light=.7, dark=.15)\n",
    "\n",
    "sns.set_palette(greens)"
   ]
  },
  {
   "cell_type": "code",
   "execution_count": null,
   "metadata": {
    "collapsed": false
   },
   "outputs": [],
   "source": [
    "sns.palplot(greens)\n",
    "sns.palplot(reds)"
   ]
  },
  {
   "cell_type": "markdown",
   "metadata": {},
   "source": [
    "## Load Data"
   ]
  },
  {
   "cell_type": "code",
   "execution_count": null,
   "metadata": {
    "collapsed": false
   },
   "outputs": [],
   "source": [
    "# DO NOT put data into github folders!\n",
    "\n",
    "gdpath = os.path.expanduser('~/Google Drive/Bas Zahy Gianni - Games')\n",
    "figdir = os.path.join(gdpath, 'Manuscripts/Cosyne2017Abstract/Figures')\n",
    "\n",
    "params_lrn = pd.read_csv(os.path.join(gdpath, 'Analysis/3_lrn/params_learn_final.csv'))\n",
    "params_tai = pd.read_csv(os.path.join(gdpath, 'Analysis/5_tai/params_tai_final.csv'))"
   ]
  },
  {
   "cell_type": "code",
   "execution_count": null,
   "metadata": {
    "collapsed": false
   },
   "outputs": [],
   "source": [
    "params_tai['condition'] = params_tai['condition'].map({0: 5, 1: 10, 2:20})\n",
    "\n",
    "mean_correction_fields = [\n",
    "    'elo', 'tree_size', 'attention', 'rt', 'lapse', 'act_scale', 'prune_thresh', \n",
    "    'value_quality', 'weight_center', 'weight_2conn', 'weight_2unc', 'weight_3', 'weight_4'\n",
    "]\n",
    "\n",
    "mean_correction_labels = ['mc ' + i for i in mean_correction_fields]\n",
    "\n",
    "for i, p in enumerate([params_tai, params_lrn]):\n",
    "    for val in mean_correction_fields:\n",
    "        if val in p.columns:\n",
    "            nv = 'mc ' + val\n",
    "            mean_correction_labels.append(nv)\n",
    "            mean_elos = p.pivot_table(index='subject', values=val)\n",
    "            for i in p.subject.unique():\n",
    "                p.loc[p.subject==i, nv] = p.loc[p.subject==i, val] - mean_elos[i]\n",
    "            p[nv] = p[nv].fillna(method='ffill')\n",
    "            \n",
    "pl = params_lrn.groupby(['subject', 'session']).mean().reset_index()\n",
    "pt = params_tai.groupby(['subject', 'condition']).mean().reset_index()"
   ]
  },
  {
   "cell_type": "code",
   "execution_count": null,
   "metadata": {
    "collapsed": true
   },
   "outputs": [],
   "source": [
    "def get_corr_table(df, regressor_label):\n",
    "    S = pd.DataFrame(index=mean_correction_labels, columns=['r', 'p'])\n",
    "    for m in S.index:\n",
    "        res = stats.linregress(df[regressor_label], df[m])\n",
    "        S.loc[m, ['r', 'p']] = res.rvalue, res.pvalue\n",
    "        \n",
    "    return S"
   ]
  },
  {
   "cell_type": "code",
   "execution_count": null,
   "metadata": {
    "collapsed": false
   },
   "outputs": [],
   "source": [
    "tai_corrs = dict()\n",
    "for s in ['condition', 'mc rt', 'mc elo']:\n",
    "    S = get_corr_table(params_tai, s)\n",
    "    S.to_csv(os.path.join(gdpath, 'Analysis/5_tai/correlations/{}.csv'.format(s)))\n",
    "    tai_corrs[s] = S\n",
    "\n",
    "lrn_corrs = dict()\n",
    "for s in ['session', 'mc elo', 'mc rt']:\n",
    "    S = get_corr_table(params_lrn, s)\n",
    "    S.to_csv(os.path.join(gdpath, 'Analysis/3_lrn/correlations/{}.csv'.format(s)))\n",
    "    lrn_corrs[s] = S"
   ]
  },
  {
   "cell_type": "markdown",
   "metadata": {},
   "source": [
    "# Final plots"
   ]
  },
  {
   "cell_type": "code",
   "execution_count": null,
   "metadata": {
    "collapsed": false
   },
   "outputs": [],
   "source": [
    "fig, axes = plt.subplots(2, 2, figsize=(6.2, 6), sharey=True)\n",
    "lineplotkws = {'linewidth': .5, 'alpha': .4, 'color': 'grey', 'label': 'none'}\n",
    "scatterkws = {'linestyle': 'none', 'marker': 'o'}\n",
    "\n",
    "divtypes = ['session', 'condition']\n",
    "divlabels = ['Session {}', '{}s']\n",
    "variables = ordict([('Feature Drop Rate', 'attention'), ('Tree Size', 'tree_size')])\n",
    "legs = []\n",
    "\n",
    "for e, experiment in enumerate([pl, pt]):\n",
    "    for i, key in enumerate(variables.keys()):\n",
    "        val = variables[key]\n",
    "        ax = axes[e, i]\n",
    "        div = divtypes[e]\n",
    "        colors = [greens, reds][e]\n",
    "        \n",
    "        for j in experiment['subject'].unique():\n",
    "            pdata = experiment.loc[experiment['subject']==j, :]\n",
    "            ax.plot(pdata[val], pdata['elo'], **lineplotkws)\n",
    "        \n",
    "        for l, j in enumerate(experiment[div].unique()):\n",
    "            pdata = experiment.loc[experiment[div]==j, :]\n",
    "            c, la = colors[l], divlabels[e].format(j)\n",
    "            ax.plot(pdata[val], pdata['elo'], color=c, label=la, **scatterkws)\n",
    "            \n",
    "        if i==1: \n",
    "            leg = ordict(zip(*ax.get_legend_handles_labels())).items()\n",
    "            leg = ordict([(k, v) for k, v in leg if v != 'none'])\n",
    "            leg = ax.legend(leg.keys(), leg.values(), loc=(1,0), handletextpad=0.1)\n",
    "            legs.append(leg)\n",
    "            \n",
    "        res = stats.linregress(experiment[val], experiment['elo'])\n",
    "        x = .05 if i == 0 else 20\n",
    "        pvaltext = res.pvalue if res.pvalue > .0005 else .001\n",
    "        textstring = 'p < {:.3f}, r = {:.2f}'.format(pvaltext, res.rvalue)\n",
    "        ax.text(x, 425, textstring, fontsize=14)\n",
    "\n",
    "plt.setp(\n",
    "    axes[:, 0],\n",
    "    ylabel='Elo Score', ylim=[-450, 450], yticks=np.arange(-450, 600, 150),\n",
    "    xlim=[0, .7], xticks=np.arange(0, .8, .1)\n",
    ")\n",
    "\n",
    "plt.setp(axes[:, 1], xlim=[-50, 900], xticks=np.arange(0, 1050, 150))\n",
    "plt.setp(axes[0, :], xticks=[])\n",
    "axes[1, 0].set_xlabel('Feature Drop Rate')\n",
    "axes[1, 1].set_xlabel('Average Tree Size')\n",
    "\n",
    "sns.despine()\n",
    "plt.tight_layout()\n",
    "fig.savefig(os.path.join(figdir, 'Elo vs Params.png'), bbox_extra_artists=legs, bbox_inches='tight')"
   ]
  },
  {
   "cell_type": "code",
   "execution_count": null,
   "metadata": {
    "collapsed": false
   },
   "outputs": [],
   "source": [
    "fig, axes = plt.subplots(3, 2, figsize=(6, 8))\n",
    "variables = ordict([('Tree Size', 'mc tree_size'), ('Feature Drop Rate', 'mc attention')][::-1])\n",
    "\n",
    "for a, exp in enumerate([pl, pt]):\n",
    "    ax = axes[0, a]\n",
    "    div = divtypes[a]\n",
    "    p = exp.groupby(div).mean().reset_index()\n",
    "    p_sem = exp.groupby(div).sem().reset_index()\n",
    "    ax.plot(p[div], p['elo'], color='black')\n",
    "    \n",
    "    for j, s in enumerate(p[div].unique()):\n",
    "        if j==0:\n",
    "            s0 = s\n",
    "        _p = p.loc[p[div]==s, :]\n",
    "        ax.plot(\n",
    "            _p[div], _p['elo'], \n",
    "            marker='o', markersize=8, linestyle='none', color=colorlist[a][j]\n",
    "        )\n",
    "        ax.errorbar(\n",
    "            _p[div], _p['elo'], yerr=p_sem.loc[p_sem[div]==s, 'elo'], \n",
    "            color=colorlist[a][j], linewidth=1.8\n",
    "        )\n",
    "    \n",
    "    res = stats.linregress(exp[div], exp['mc elo'])\n",
    "    ax.text(.05, .95, \"N = 30\", fontsize=14, transform=ax.transAxes)\n",
    "    ax.text(.05, .03, \"p {} {:.3f}, r = {:.2f}\".format(\n",
    "            '=' if res.pvalue > .0005 else '<', \n",
    "            res.pvalue if res.pvalue > .0005 else .001, \n",
    "            res.rvalue), fontsize=14, transform=ax.transAxes\n",
    "           )\n",
    "\n",
    "plt.setp(axes[0, :], yticks=np.arange(-80, 81, 40))\n",
    "plt.setp(axes[0, 0], xlim=[-.25, 4.25], xticks=[], xticklabels=[], ylabel='Elo')\n",
    "plt.setp(axes[0, 1], xlim=[4, 21], xticks=[], xticklabels=[])\n",
    "\n",
    "for a, exp in enumerate([pl, pt]):\n",
    "    for i, k in enumerate(variables.keys()):\n",
    "        v = variables[k]\n",
    "        ax = axes[i+1, a]\n",
    "        div = divtypes[a]\n",
    "        colors = [greens, reds][a]\n",
    "        \n",
    "        p = exp.groupby(div).mean().reset_index()\n",
    "        p_sem = exp.groupby(div).sem().reset_index()\n",
    "        ax.plot(p[div], p[v], color='black')\n",
    "        \n",
    "        for l, c in enumerate(p[div].unique()):\n",
    "            _p = p.loc[p[div]==c]\n",
    "            \n",
    "            ax.plot(\n",
    "                _p[div], _p[v],\n",
    "                color=colors[l], linestyle='none', marker='o', markersize=8,\n",
    "                label='none'\n",
    "            )\n",
    "\n",
    "            ax.errorbar(\n",
    "                _p[div], _p[v], yerr=p_sem.loc[p_sem[div]==c, v], linewidth=1.8, color=colors[l]\n",
    "            )\n",
    "            \n",
    "        res = stats.linregress(exp[div], exp[v])\n",
    "        ax.text(0.04, 0.03, 'p < {:.3f}, r = {:.2f}'.format(\n",
    "                res.pvalue if res.pvalue > .0005 else .001, \n",
    "                res.rvalue), fontsize=14, transform=ax.transAxes)\n",
    "\n",
    "plt.setp(axes[:, 0], xlim=[-.2, 4.2], xticks=np.arange(0, 4.1, 1))\n",
    "plt.setp(axes[:, 1], xlim=[4, 21], xticks=np.arange(5, 21, 5), yticks=[])\n",
    "plt.setp(axes[1, :], ylim=[-.04, .04], xticks=[])\n",
    "plt.setp(axes[2, :], ylim=[-100, 100])\n",
    "\n",
    "plt.setp(axes[1, 0], ylabel='Feature drop rate', yticks=np.arange(-.04, .041, .02))\n",
    "plt.setp(axes[2, 0], ylabel=\"Tree size\", xlabel='Session number', yticks=np.arange(-100, 101, 50))\n",
    "plt.setp(axes[2, 1], xlabel='Time limit (s)')\n",
    "\n",
    "sns.despine()\n",
    "plt.tight_layout()\n",
    "fig.savefig(os.path.join(figdir, 'Manip vs Params.png'))"
   ]
  },
  {
   "cell_type": "code",
   "execution_count": null,
   "metadata": {
    "collapsed": false
   },
   "outputs": [],
   "source": [
    "fig, axes = plt.subplots(1, 1, figsize=(3.5, 3))\n",
    "\n",
    "ptm = pt.groupby('condition').mean().reset_index()\n",
    "ptsd = pt.groupby('condition').sem().reset_index()\n",
    "\n",
    "axes.plot(ptm['condition'], ptm['mc rt'], color='black')\n",
    "\n",
    "for e, i in enumerate(ptm.condition.unique()):\n",
    "    p = ptm.loc[ptm['condition']==i, :]\n",
    "    axes.plot(\n",
    "        p['condition'], p['mc rt'],\n",
    "        linestyle='none', marker='o', markersize=8, color=reds[e]\n",
    "    )\n",
    "    \n",
    "    axes.errorbar(\n",
    "        p['condition'], p['mc rt'], \n",
    "        yerr=2*ptsd.loc[ptsd['condition']==i, 'mc rt'], \n",
    "        color=reds[e], linewidth=1.8\n",
    "    )\n",
    "    \n",
    "plt.setp(\n",
    "    axes, \n",
    "    xlim=[0, 25], xticks=np.arange(0, 30, 5), xlabel='Time limit (s)',\n",
    "    ylim=[-800, 800], yticks=np.arange(-800, 801, 400), yticklabels=np.arange(-.8, .81, .4),\n",
    "    ylabel=r'$\\Delta$'+' Reaction time (s)'\n",
    ")\n",
    "\n",
    "res = stats.linregress(pt['condition'], pt['mc rt'])\n",
    "\n",
    "axes.text(1, 700, \"N = 30, p < {:.3f}, r = {:.2f}\".format(res.pvalue if res.pvalue > .0005 else .001, res.rvalue), fontsize=14)\n",
    "\n",
    "plt.tight_layout()\n",
    "sns.despine()\n",
    "fig.savefig(os.path.join(figdir, 'Time limit vs RT.png'))"
   ]
  },
  {
   "cell_type": "code",
   "execution_count": null,
   "metadata": {
    "collapsed": false
   },
   "outputs": [],
   "source": [
    "fig, axes = plt.subplots(1, 2, figsize=(6, 3), sharey=True)\n",
    "\n",
    "colorlist = [greens, reds]\n",
    "\n",
    "for a, exp in enumerate([pl, pt]):\n",
    "    ax = axes[a]\n",
    "    div = divtypes[a]\n",
    "    p = exp.groupby(div).mean().reset_index()\n",
    "    p_sem = exp.groupby(div).sem().reset_index()\n",
    "    ax.plot(p[div], p['elo'], color='black')\n",
    "    \n",
    "    for j, s in enumerate(p[div].unique()):\n",
    "        if j==0:\n",
    "            s0 = s\n",
    "        _p = p.loc[p[div]==s, :]\n",
    "        ax.plot(\n",
    "            _p[div], _p['elo'], \n",
    "            marker='o', markersize=8, linestyle='none', color=colorlist[a][j]\n",
    "        )\n",
    "        ax.errorbar(\n",
    "            _p[div], _p['elo'], yerr=p_sem.loc[p_sem[div]==s, 'elo'], \n",
    "            color=colorlist[a][j], linewidth=1.8\n",
    "        )\n",
    "    \n",
    "    res = stats.linregress(exp[div], exp['mc elo'])\n",
    "    ax.text(s0, 75, \"N = 30, p {} {:.3f}, r = {:.2f}\".format(\n",
    "            '=' if res.pvalue > .0005 else '<', \n",
    "            res.pvalue if res.pvalue > .0005 else .001, \n",
    "            res.rvalue), fontsize=12\n",
    "           )\n",
    "\n",
    "    \n",
    "plt.setp(axes, yticks=np.arange(-80, 81, 40))\n",
    "plt.setp(axes[0], xlim=[-.25, 4.25], xlabel='Session Number', ylabel='Elo score')\n",
    "plt.setp(axes[1], xlim=[4, 21], xticks=np.arange(5, 21, 5), xlabel='Time Limit (s)')\n",
    "\n",
    "\n",
    "plt.tight_layout()\n",
    "sns.despine()\n",
    "fig.savefig(os.path.join(figdir, 'Elo against manip.png'))"
   ]
  },
  {
   "cell_type": "code",
   "execution_count": null,
   "metadata": {
    "collapsed": false
   },
   "outputs": [],
   "source": [
    "# for i in params_tai.subject.unique():\n",
    "#     p = params_tai.loc[params_tai['subject']==i, :]\n",
    "#     axes.plot(p['mc value_quality'], p['mc tree_size'], color='grey', alpha=.2)\n",
    "fig, axes=plt.subplots(1,1)\n",
    "for i in params_lrn['session'].unique():\n",
    "    p = params_lrn.loc[params_lrn['session']==i, :]\n",
    "    axes.plot(\n",
    "        p['mc tree_size'], p['mc value_quality'], \n",
    "        linestyle='none', marker='o', \n",
    "#         label=['5 second', '10 second', '20 second'][i]\n",
    "    )\n",
    "    \n",
    "plt.setp(axes, xlabel='MC Tree Size', ylabel='MC Value Quality')\n",
    "\n",
    "linres = stats.linregress(params_lrn['mc tree_size'], params_lrn['mc value_quality'])\n",
    "print(\n",
    "    'p =', linres.pvalue, \n",
    "    '\\nr =', linres.rvalue\n",
    ")\n",
    "\n",
    "sns.despine()"
   ]
  },
  {
   "cell_type": "code",
   "execution_count": null,
   "metadata": {
    "collapsed": false
   },
   "outputs": [],
   "source": [
    "fig, axes = plt.subplots(2, 3, figsize=(10, 6))\n",
    "for j, w in enumerate(['mc weight_center', 'mc weight_2conn', 'mc weight_2unc', 'mc weight_3', 'mc weight_4']):\n",
    "    ax = axes.flatten()[j]\n",
    "    for i in [0, 1, 2, 3, 4]:\n",
    "        p = params_lrn.loc[params_lrn['session']==i, :]\n",
    "        ax.plot(\n",
    "            p[w], p['mc value_quality'], \n",
    "            linestyle='none', marker='o', \n",
    "    #         label=['5 second', '10 second', '20 second'][i]\n",
    "        )\n",
    "    \n",
    "    plt.setp(ax, xlabel=w, ylabel='MC Value Quality')\n",
    "\n",
    "    linres = stats.linregress(params_lrn[w], params_lrn['mc value_quality'])\n",
    "    print(\n",
    "        w,\n",
    "        '\\n\\tp =', linres.pvalue, \n",
    "        '\\n\\tr =', linres.rvalue\n",
    "    )\n",
    "\n",
    "axes[1, 1].set_xlim([-1000, 1000])\n",
    "    \n",
    "# for i in params_tai.subject.unique():\n",
    "#     p = params_tai.loc[params_tai['subject']==i, :]\n",
    "#     axes.plot(p['mc value_quality'], p['mc tree_size'], color='grey', alpha=.2)\n",
    "    \n",
    "sns.despine()"
   ]
  },
  {
   "cell_type": "markdown",
   "metadata": {},
   "source": [
    "# Params Timed AI"
   ]
  },
  {
   "cell_type": "markdown",
   "metadata": {},
   "source": [
    "# Parameters Learning"
   ]
  },
  {
   "cell_type": "code",
   "execution_count": null,
   "metadata": {
    "collapsed": false
   },
   "outputs": [],
   "source": [
    "L = pd.read_csv(os.path.join(gdpath, 'Data/3_lrn/Clean/_summaries/all_games_all_fields.csv'))\n",
    "A = pd.read_csv(os.path.join(gdpath, 'Data/3_lrn/Clean/_summaries/all_afc2s_all_fields.csv'))\n",
    "\n",
    "A['correct'] = 1\n",
    "A.loc[(A.aval > A.bval) & (A.response == A.b), 'correct'] = 0\n",
    "A.loc[(A.bval > A.aval) & (A.response == A.a), 'correct'] = 0\n",
    "T = A.loc[A.aval != A.bval, :]\n",
    "\n",
    "ranks = pd.read_csv(os.path.join(gdpath, 'Analysis/3_lrn/ratings_learn.csv'))\n",
    "R = ranks.loc[ranks['Subject'] >= 0, :]\n",
    "for s in R.Subject.unique():\n",
    "    _r = R.loc[R.Subject == s, :]\n",
    "    _g = _r.sort_values('Session').games.cumsum()\n",
    "    \n",
    "    R.loc[_g.index, 'games td'] = _g.values\n",
    "R = R.sort_values(['Subject', 'Session'])\n",
    "\n",
    "for s in R.Subject.unique():\n",
    "    for ss in R.Session.unique():\n",
    "        R.loc[(R.Subject==s)&(R.Session==ss), 'mean rt'] = L.loc[(L.subject==s)&(L.session==ss), 'rt'].mean()\n",
    "        if ss%2 == 0:\n",
    "            R.loc[(R.Subject==s)&(R.Session==ss), 'afc score'] = T.loc[(T.subject==s)&(T.session==ss), 'correct'].mean()\n",
    "\n",
    "ratings = pd.read_csv(os.path.join(gdpath, 'Analysis/5_tai/ratings_tai (6).csv'))\n",
    "ratings['Subject'] = ratings['Name'].map(lambda x: int(x[3:5]) if len(x) == 11 else np.nan)\n",
    "ratings['condition'] = ratings['Name'].map(lambda x: int(x[-2:]) if len(x) == 11 else np.nan)\n",
    "ratings = ratings.sort_values(['Subject', 'condition'])"
   ]
  },
  {
   "cell_type": "code",
   "execution_count": null,
   "metadata": {
    "collapsed": false
   },
   "outputs": [],
   "source": [
    "fig, axes = plt.subplots(params_lrn['subject'].unique().size, 1, figsize=(8, 60), squeeze=False)\n",
    "for i in params_lrn['subject'].unique():\n",
    "    for j in params_lrn['session'].unique():\n",
    "        p = params_lrn.loc[(params_lrn['subject'] == i) & (params_lrn['session'] == j), :]\n",
    "        mvs = stats.bayes_mvs(p['gamma'])\n",
    "        mu = mvs[0][0]\n",
    "        sig = mvs[2][0]\n",
    "        x = np.arange(mu-3*sig, mu+3*sig, sig/10)\n",
    "        axes[i, 0].plot(x, stats.norm(loc=mu, scale=sig).pdf(x), label=str(j))\n",
    "    axes[i, 0].set_ylabel('Subject '+str(i))\n",
    "        \n",
    "axes[0, 0].legend(loc=0)\n",
    "plt.setp(axes, xticklabels=[], yticklabels=[])\n",
    "        \n",
    "sns.despine()"
   ]
  },
  {
   "cell_type": "markdown",
   "metadata": {},
   "source": [
    "# Timed Performance"
   ]
  },
  {
   "cell_type": "markdown",
   "metadata": {},
   "source": [
    "# Learning Performance"
   ]
  },
  {
   "cell_type": "code",
   "execution_count": null,
   "metadata": {
    "collapsed": false
   },
   "outputs": [],
   "source": [
    "stats.linregress(R['Session'], R['Elo'])"
   ]
  },
  {
   "cell_type": "code",
   "execution_count": null,
   "metadata": {
    "collapsed": false
   },
   "outputs": [],
   "source": [
    "stats.linregress(np.log(d['mean rt']), d['afc score'])"
   ]
  },
  {
   "cell_type": "code",
   "execution_count": null,
   "metadata": {
    "collapsed": false,
    "scrolled": true
   },
   "outputs": [],
   "source": [
    "plt.plot(np.log(R['mean rt']), R['afc score'], linestyle='none', marker='o')\n",
    "sns.despine()"
   ]
  },
  {
   "cell_type": "code",
   "execution_count": null,
   "metadata": {
    "collapsed": false
   },
   "outputs": [],
   "source": [
    "fig, axes = plt.subplots(1, 1)\n",
    "\n",
    "d = R.loc[pd.notnull(R['afc score'])]\n",
    "# for s in d.Subject.unique():\n",
    "#     dd = d.loc[d.Subject==s, :]\n",
    "#     axes.plot(dd['Elo'], dd['afc score'], color='grey')\n",
    "    \n",
    "for s in d.Session.unique():\n",
    "    dd = d.loc[d.Session==s, :]\n",
    "    axes.plot(dd['Elo'], dd['afc score'], marker='o', linestyle='none')\n",
    "    \n",
    "sns.despine()"
   ]
  },
  {
   "cell_type": "code",
   "execution_count": null,
   "metadata": {
    "collapsed": false
   },
   "outputs": [],
   "source": [
    "fig, axes = plt.subplots(1, 1)\n",
    "\n",
    "for i in [0, 2, 4]:\n",
    "    dd = d.loc[d.Session==i, 'afc score']\n",
    "    mvs = stats.bayes_mvs(dd.values)\n",
    "    print(mvs[0][0])\n",
    "    axes.plot(i, mvs[0][0], marker='o', markerfacecolor=p[i])\n",
    "    axes.errorbar(i, y=mvs[0][0], yerr=mvs[0][0]-mvs[0][1][0], color=p[i])\n",
    "    \n",
    "plt.setp(axes, xlim=[-1, 4.1])\n",
    "sns.despine()\n",
    "\n",
    "print(d.loc[d.Session==0, 'afc score'].mean())\n",
    "print(d.loc[d.Session==2, 'afc score'].mean())\n",
    "print(d.loc[d.Session==4, 'afc score'].mean())\n"
   ]
  },
  {
   "cell_type": "code",
   "execution_count": null,
   "metadata": {
    "collapsed": false
   },
   "outputs": [],
   "source": [
    "fig, axes = plt.subplots(1, 1)\n",
    "mvs = []\n",
    "for sess in np.arange(5):\n",
    "    d = R.loc[R.Session == sess, :]\n",
    "    mvs.append(stats.bayes_mvs(d['Elo']))\n",
    "    axes.plot(d['Session'], d['Elo'], marker='o', linestyle='none', color=p.as_hex()[sess])\n",
    "    axes.plot(sess, mvs[sess][0][0], color=p2.as_hex()[::-1][sess], marker='o', markersize=10, zorder=51)\n",
    "\n",
    "axes.fill_between(\n",
    "    x=[0, 1, 2, 3, 4], y1=[m[0][1][0] for m in mvs], y2=[m[0][1][1] for m in mvs],\n",
    "    color=p2[0], alpha=.5\n",
    ")\n",
    "    \n",
    "for sub in R.Subject.unique():\n",
    "    d = R.loc[R.Subject == sub, :]\n",
    "    axes.plot(d['Session'], d['Elo'], color='grey', alpha=.2)\n",
    "\n",
    "sns.despine()\n",
    "\n",
    "plt.setp(axes, xticks=np.arange(-1, 6, 1), xlim=[-.1, 4.1]);"
   ]
  },
  {
   "cell_type": "code",
   "execution_count": null,
   "metadata": {
    "collapsed": false
   },
   "outputs": [],
   "source": [
    "mvs[0][1]"
   ]
  },
  {
   "cell_type": "code",
   "execution_count": null,
   "metadata": {
    "collapsed": false
   },
   "outputs": [],
   "source": [
    "fig, axes = plt.subplots(1, 1)\n",
    "\n",
    "for sess in np.arange(5):\n",
    "    d = R.loc[R.Session == sess, :]\n",
    "    axes.plot(d['games td'], d['Elo'], marker='o', linestyle='none')\n",
    "for sub in R.Subject.unique():\n",
    "    d = R.loc[R.Subject == sub, :]\n",
    "    axes.plot(d['games td'], d['Elo'], color='grey', alpha=.2)\n",
    "    \n",
    "plt.setp(axes, xlabel='Cumulative games', ylabel='Elo')\n",
    "sns.despine()\n",
    "\n",
    "print(stats.linregress(R['games td'], R['Elo']))"
   ]
  },
  {
   "cell_type": "code",
   "execution_count": null,
   "metadata": {
    "collapsed": false
   },
   "outputs": [],
   "source": [
    "fig, axes = plt.subplots(1, 1)\n",
    "\n",
    "for s in R.Subject.unique():\n",
    "    R.loc[R.Subject == s, 'first elo'] = R.loc[R.Subject == s, 'Elo'].values[0]\n",
    "R['elo dif'] = R['Elo'] - R['first elo']\n",
    "E = R.copy() #R.loc[R.Session == 4, :]\n",
    "e = E.loc[E.Session==4, :]\n",
    "print(stats.bayes_mvs(e['elo dif'].values, alpha=.95))\n",
    "print(stats.linregress(e['games td'], e['elo dif']))\n",
    "\n",
    "axes.plot((0, 300), (0, 0), color='black', linestyle='--')\n",
    "\n",
    "for s in np.arange(5):\n",
    "    e = E.loc[E.Session==s]\n",
    "    axes.plot(e['games td'], e['elo dif'], linestyle='none', marker='o')\n",
    "for s in E.Subject.unique():\n",
    "    e = E.loc[E.Subject==s]\n",
    "    axes.plot(e['games td'], e['elo dif'], color='grey', alpha=.4)\n",
    "    \n",
    "\n",
    "sns.despine()\n",
    "plt.setp(axes, xlabel='N games', ylabel='Elo dif from 1st session');"
   ]
  },
  {
   "cell_type": "code",
   "execution_count": null,
   "metadata": {
    "collapsed": false
   },
   "outputs": [],
   "source": [
    "plt.hist(E.values, bins = np.arange(-200, 400, 50))\n",
    "plt.xlabel('Elo Difference: Session 1 - 2')\n",
    "sns.despine()"
   ]
  },
  {
   "cell_type": "code",
   "execution_count": null,
   "metadata": {
    "collapsed": false
   },
   "outputs": [],
   "source": [
    "fig, axes = plt.subplots(1, 1)\n",
    "\n",
    "for sess in np.arange(1, 5, 1):\n",
    "    t = R.loc[R.Session == sess]\n",
    "    plt.plot(t['mean rt'], t['elo dif'], marker='o', linestyle='none', color=p[sess])\n",
    "sns.despine()\n",
    "print(stats.linregress(t['mean rt'], t['elo dif']))"
   ]
  },
  {
   "cell_type": "code",
   "execution_count": null,
   "metadata": {
    "collapsed": false
   },
   "outputs": [],
   "source": [
    "fig, axes = plt.subplots(1, 1)\n",
    "\n",
    "axes.plot(R['Session'], R['mean rt'], marker='o', linestyle='none')\n",
    "plt.setp(axes, xlim=[-.1, 4.1])\n",
    "sns.despine()\n",
    "\n",
    "stats.linregress(R['Session'], R['mean rt'])"
   ]
  },
  {
   "cell_type": "markdown",
   "metadata": {},
   "source": [
    "# opening moves"
   ]
  },
  {
   "cell_type": "code",
   "execution_count": null,
   "metadata": {
    "collapsed": true
   },
   "outputs": [],
   "source": []
  }
 ],
 "metadata": {
  "anaconda-cloud": {},
  "kernelspec": {
   "display_name": "Python [default]",
   "language": "python",
   "name": "python3"
  },
  "language_info": {
   "codemirror_mode": {
    "name": "ipython",
    "version": 3
   },
   "file_extension": ".py",
   "mimetype": "text/x-python",
   "name": "python",
   "nbconvert_exporter": "python",
   "pygments_lexer": "ipython3",
   "version": "3.5.2"
  }
 },
 "nbformat": 4,
 "nbformat_minor": 1
}
