{
 "cells": [
  {
   "cell_type": "markdown",
   "metadata": {
    "deletable": true,
    "editable": true
   },
   "source": [
    "# Experiment 1"
   ]
  },
  {
   "cell_type": "markdown",
   "metadata": {
    "deletable": true,
    "editable": true
   },
   "source": [
    "## Modules and settings"
   ]
  },
  {
   "cell_type": "code",
   "execution_count": null,
   "metadata": {
    "collapsed": false,
    "deletable": true,
    "editable": true
   },
   "outputs": [],
   "source": [
    "import numpy as np\n",
    "import pandas as pd\n",
    "import data_cleaning as dc\n",
    "import matplotlib.pyplot as plt\n",
    "import scipy.stats as sts\n",
    "import scipy.optimize as opt\n",
    "import seaborn as sns\n",
    "A, B, C, D = sns.color_palette('muted', 4)\n",
    "sns.set_style('white')"
   ]
  },
  {
   "cell_type": "markdown",
   "metadata": {
    "deletable": true,
    "editable": true
   },
   "source": [
    "## Directories"
   ]
  },
  {
   "cell_type": "code",
   "execution_count": null,
   "metadata": {
    "collapsed": false,
    "deletable": true,
    "editable": true
   },
   "outputs": [],
   "source": [
    "data_source = \"./Raw/\"\n",
    "data_out = \"./Clean/\"\n",
    "figure_out = \"./Figures/weiji_talk/\""
   ]
  },
  {
   "cell_type": "markdown",
   "metadata": {
    "deletable": true,
    "editable": true
   },
   "source": [
    "# Data Processing"
   ]
  },
  {
   "cell_type": "code",
   "execution_count": null,
   "metadata": {
    "collapsed": false,
    "deletable": true,
    "editable": true
   },
   "outputs": [],
   "source": [
    "def detect_error(row):\n",
    "    is_error = np.nan\n",
    "    if row.status == 'AFC2':\n",
    "        if ((row.a_val > row.b_val) & (row.response == row.b)):\n",
    "            is_error = 1\n",
    "        elif ((row.a_val < row.b_val) & (row.response == row.a)):\n",
    "            is_error = 1 \n",
    "        elif row.a_val == row.b_val:\n",
    "            is_error = .5\n",
    "        else:\n",
    "            is_error = 0\n",
    "    else:\n",
    "        is_error = int(row.gtv < row.posqual)\n",
    "    return is_error"
   ]
  },
  {
   "cell_type": "code",
   "execution_count": null,
   "metadata": {
    "collapsed": true,
    "deletable": true,
    "editable": true
   },
   "outputs": [],
   "source": []
  },
  {
   "cell_type": "markdown",
   "metadata": {
    "deletable": true,
    "editable": true
   },
   "source": [
    "## Load data"
   ]
  },
  {
   "cell_type": "code",
   "execution_count": null,
   "metadata": {
    "collapsed": false,
    "deletable": true,
    "editable": true
   },
   "outputs": [],
   "source": [
    "subject_initials = [\"AL\", \"AW\", \"EC\", \"FC\", \"GA\", \n",
    "                    \"HW\", \"JH\", \"JZ\", \"LH\", \"MH\", \"MS\", \"ZL\"] #\"SVO\", \"GVG\"]\n",
    "files = [data_source + s + \".csv\" for s in subject_initials]\n",
    "subjects = [dc.clean(f) for f in files]\n",
    "\n",
    "for i in np.arange(len(subjects)):\n",
    "    subjects[i] = subjects[i].loc[\n",
    "        subjects[i].human == subjects[i].subject, :].reset_index(drop=True)\n",
    "    subjects[i].loc[:, 'subject'] = str(i)\n",
    "    subjects[i].loc[:, 'subject'] = subjects[i].loc[:, 'subject'].astype(int)\n",
    "    \n",
    "data = pd.concat(subjects).reset_index(drop=True)\n",
    "data = data.reindex_axis([\"subject\",\"color\",\"gi\",\"mi\",\"status\",\n",
    "                          \"bp\",\"wp\",\"response\",\"rt\",'human','computer', 'time'], axis=1)\n",
    "\n",
    "boards = pd.read_csv('experiment_boards_new.txt', sep='\\t', \n",
    "                     names=['bp', 'wp', 'a', 'a_val', 'b', 'b_val', 'color', 'muinf'])\n",
    "boards.loc[:, 'color'] = boards.loc[:, 'color'].map({'BLACK':0, 'WHITE':1})\n",
    "\n",
    "objlists = ['objective_values_gen2.txt', \n",
    "            'objective_values_hvh.txt', \n",
    "            'objective_values_eye.txt']\n",
    "\n",
    "obj = pd.concat([pd.read_csv(data_out + o, sep='\\t', \n",
    "                            names=['bp', 'wp'] + list(range(36))) \n",
    "                for o in objlists]).reset_index(drop=True)\n",
    "\n",
    "dupecols = ['subject', 'status', 'color', 'mi', 'bp', 'wp', 'response']\n",
    "ai = data.loc[~data.status.isin(['AFC2', 'EVAL']), :]\n",
    "afc = data.loc[data.status=='AFC2', :].drop_duplicates(subset=dupecols)\n",
    "eva = data.loc[data.status=='EVAL', :].drop_duplicates(subset=dupecols)\n",
    "data = pd.concat([ai, afc, eva]).reset_index(drop=True)"
   ]
  },
  {
   "cell_type": "code",
   "execution_count": null,
   "metadata": {
    "collapsed": false,
    "deletable": true,
    "editable": true,
    "scrolled": true
   },
   "outputs": [],
   "source": [
    "data.loc[:, 'gtv'] = np.nan\n",
    "data.loc[:, 'posqual'] = np.nan\n",
    "data.loc[:, 'error'] = np.nan\n",
    "data.loc[:, 'a'] = np.nan\n",
    "data.loc[:, 'b'] = np.nan\n",
    "\n",
    "for i in data.index.values:\n",
    "    r = int(data.loc[i, 'response'])\n",
    "    bp = data.loc[i, 'bp']\n",
    "    wp = data.loc[i, 'wp']\n",
    "    c = data.loc[i, 'color']\n",
    "    \n",
    "    match = obj.loc[(obj.bp == bp) & (obj.wp == wp), :]\n",
    "    bmatch = boards.loc[(boards.bp == bp) & (boards.wp == wp), :]\n",
    "    \n",
    "    if len(match) >= 1:\n",
    "        gtv = match.loc[:, 35-r].values[0]\n",
    "        gtv = gtv if ((gtv==0) | (np.abs(gtv) == 10000)) else 0\n",
    "        gtv = gtv/10000\n",
    "        pqual = np.nanmax(\n",
    "            match.loc[:, list(range(35))].values[0]) if c == 0 else np.nanmin(\n",
    "            match.loc[:, list(range(35))].values[0])\n",
    "        pqual = pqual if ((pqual==0) | (np.abs(pqual) == 10000)) else 0\n",
    "        pqual = pqual/10000\n",
    "        data.loc[i, 'gtv'] = gtv if ((c == 0) | (gtv==0)) else -gtv\n",
    "        data.loc[i, 'posqual'] = pqual if ((c == 0) | (pqual==0)) else -pqual\n",
    "        \n",
    "        if len(bmatch) >= 1:\n",
    "            a = bmatch.loc[:, 'a'].values[0]\n",
    "            b = bmatch.loc[:, 'b'].values[0]\n",
    "            a_val = match.loc[:, 35-a].values[0]\n",
    "            a_val = a_val if ((a_val==0) | (np.abs(a_val)==10000)) else 0\n",
    "            a_val /= 10000\n",
    "            \n",
    "            b_val = match.loc[:, 35-b].values[0]\n",
    "            b_val = b_val if ((b_val==0) | (np.abs(b_val)==10000)) else 0\n",
    "            b_val /= 10000\n",
    "            \n",
    "            data.loc[i, 'a'] = a\n",
    "            data.loc[i, 'b'] = b\n",
    "            data.loc[i, 'a_val'] = a_val \n",
    "            data.loc[i, 'b_val'] = b_val\n",
    "        data.loc[i, 'error'] = detect_error(data.loc[i, :])\n",
    "        gtv = data.loc[i, 'gtv']\n",
    "        pqual = data.loc[i, 'posqual']\n",
    "        data.loc[i, 'gtv'] = gtv if ((c == 0) | (gtv==0)) else -gtv\n",
    "        data.loc[i, 'posqual'] = pqual if ((c == 0) | (pqual==0)) else -pqual\n",
    "\n",
    "# data.loc[data.status=='AFC2', 'error'] = 1 - data.loc[data.status=='AFC2', 'error']        \n",
    "\n",
    "# data.loc[data.status=='AFC2', :].to_csv(data_out + 'afc2.csv')\n",
    "# data.loc[data.status=='EVAL', ['subject', 'color', 'gi', 'mi', 'bp', 'wp', 'response', 'rt', 'human', 'computer', 'time', 'gtv']].to_csv(data_out + 'eval.csv')\n",
    "# data.loc[~data.status.isin(['AFC2', 'EVAL']), :].to_csv(data_out + 'ai.csv')\n",
    "data.head()\n"
   ]
  },
  {
   "cell_type": "code",
   "execution_count": null,
   "metadata": {
    "collapsed": false,
    "deletable": true,
    "editable": true
   },
   "outputs": [],
   "source": [
    "data.status.unique()"
   ]
  },
  {
   "cell_type": "code",
   "execution_count": null,
   "metadata": {
    "collapsed": false,
    "deletable": true,
    "editable": true
   },
   "outputs": [],
   "source": [
    "len(data.loc[data.status == 'AFC2', :])"
   ]
  },
  {
   "cell_type": "code",
   "execution_count": null,
   "metadata": {
    "collapsed": false,
    "deletable": true,
    "editable": true
   },
   "outputs": [],
   "source": [
    "impcols = ['subject', 'color', 'gi', 'mi', 'status',\n",
    "                        'bp', 'wp', 'response', 'rt', 'human', \n",
    "                        'computer', 'time', 'a', 'b', 'a_val', 'b_val']\n",
    "\n",
    "data = pd.read_csv(data_out + 'afc2 2.csv', names=impcols)\n",
    "\n",
    "for i in data.index.values:\n",
    "    r = int(data.loc[i, 'response'])\n",
    "    bp = data.loc[i, 'bp']\n",
    "    wp = data.loc[i, 'wp']\n",
    "    c = data.loc[i, 'color']\n",
    "    \n",
    "    match = obj.loc[(obj.bp == bp) & (obj.wp == wp), :]\n",
    "    bmatch = boards.loc[(boards.bp == bp) & (boards.wp == wp), :]\n",
    "    \n",
    "    if len(match) >= 1:\n",
    "        gtv = match.loc[:, 35-r].values[0]\n",
    "        gtv = gtv if ((gtv==0) | (np.abs(gtv) == 10000)) else 0\n",
    "        gtv = gtv/10000\n",
    "        pqual = np.nanmax(\n",
    "            match.loc[:, list(range(35))].values[0]) if c == 0 else np.nanmin(\n",
    "            match.loc[:, list(range(35))].values[0])\n",
    "        pqual = pqual if ((pqual==0) | (np.abs(pqual) == 10000)) else 0\n",
    "        pqual = pqual/10000\n",
    "        data.loc[i, 'gtv'] = gtv if ((c == 0) | (gtv==0)) else -gtv\n",
    "        data.loc[i, 'posqual'] = pqual if ((c == 0) | (pqual==0)) else -pqual\n",
    "        \n",
    "        if len(bmatch) >= 1:\n",
    "            a = bmatch.loc[:, 'a'].values[0]\n",
    "            b = bmatch.loc[:, 'b'].values[0]\n",
    "            a_val = match.loc[:, 35-a].values[0]\n",
    "            a_val = a_val if ((a_val==0) | (np.abs(a_val)==10000)) else 0\n",
    "            a_val /= 10000\n",
    "            \n",
    "            b_val = match.loc[:, 35-b].values[0]\n",
    "            b_val = b_val if ((b_val==0) | (np.abs(b_val)==10000)) else 0\n",
    "            b_val /= 10000\n",
    "            \n",
    "            data.loc[i, 'a'] = a\n",
    "            data.loc[i, 'b'] = b\n",
    "            data.loc[i, 'a_val'] = a_val\n",
    "            data.loc[i, 'b_val'] = b_val\n",
    "        data.loc[i, 'error'] = detect_error(data.loc[i, :])\n",
    "        \n",
    "        av = data.loc[i, 'a_val']\n",
    "        bv = data.loc[i, 'b_val']\n",
    "        data.loc[i, 'a_val'] =  av if ((c == 0) | (gtv==0)) else -av\n",
    "        data.loc[i, 'b_val'] = bv if ((c == 0) | (gtv==0)) else -bv\n",
    "\n",
    "data.loc[data.status=='AFC2', 'error'] = 1 - data.loc[data.status=='AFC2', 'error']\n",
    "\n",
    "data.loc[:, ['subject', 'color', 'gi', 'mi', 'status',\n",
    "                        'bp', 'wp', 'response', 'rt', 'human', \n",
    "                        'computer', 'time', 'a', 'b', \n",
    "             'a_val', 'b_val']].reset_index(drop=True).to_csv(data_out + 'afc2_new.csv', \n",
    "                                                              header=False)\n",
    "data"
   ]
  },
  {
   "cell_type": "code",
   "execution_count": null,
   "metadata": {
    "collapsed": true,
    "deletable": true,
    "editable": true
   },
   "outputs": [],
   "source": [
    "data.loc[data.status=='AFC2']\n"
   ]
  },
  {
   "cell_type": "markdown",
   "metadata": {
    "deletable": true,
    "editable": true
   },
   "source": [
    "## Analyses"
   ]
  },
  {
   "cell_type": "code",
   "execution_count": null,
   "metadata": {
    "collapsed": false,
    "deletable": true,
    "editable": true
   },
   "outputs": [],
   "source": [
    "sns.set_palette('deep')\n",
    "sns.set_style('white')\n",
    "sns.set_context('poster')\n",
    "B, G, R, P = sns.color_palette('deep', 4)\n",
    "%matplotlib inline"
   ]
  },
  {
   "cell_type": "markdown",
   "metadata": {
    "deletable": true,
    "editable": true
   },
   "source": [
    "### AI"
   ]
  },
  {
   "cell_type": "markdown",
   "metadata": {
    "deletable": true,
    "editable": true
   },
   "source": [
    "#### Select Data"
   ]
  },
  {
   "cell_type": "code",
   "execution_count": null,
   "metadata": {
    "collapsed": false,
    "deletable": true,
    "editable": true
   },
   "outputs": [],
   "source": [
    "# data.loc[data.status=='AFC2', 'color'] = (data.loc[data.status=='AFC2', 'color'] + 1) % 2\n",
    "\n",
    "probe = np.array([np.array(list(data.loc[i, 'bp'])).astype(int).sum() - \n",
    "          np.array(list(data.loc[i, 'wp'])).astype(int).sum() \n",
    "         for i in data.index.values])\n",
    "\n",
    "\n",
    "data.loc[probe != data.color, :]"
   ]
  },
  {
   "cell_type": "code",
   "execution_count": null,
   "metadata": {
    "collapsed": false,
    "deletable": true,
    "editable": true
   },
   "outputs": [],
   "source": [
    "d = data.loc[~data.status.isin(['AFC2', 'EVAL']), :].reset_index(drop=True)\n",
    "for dex in d.loc[(d.mi==0)&(d.gi==0), :].index.values:\n",
    "    d.loc[dex, 'computer'] = d.loc[dex+1, 'computer']"
   ]
  },
  {
   "cell_type": "code",
   "execution_count": null,
   "metadata": {
    "collapsed": true,
    "deletable": true,
    "editable": true
   },
   "outputs": [],
   "source": [
    "# wins n draws\n",
    "dex = d.loc[d.mi.isin([0,1]), :].index.values\n",
    "ends = d.loc[dex[1:]-1, :]\n",
    "ends.loc[ends.status=='playing', 'status'] = 'loss'\n",
    "ends.reset_index(drop=True).loc[:, ['subject', 'computer', 'gi', 'color', 'status']].to_csv(data_out + \"game_ends_for_elo.csv\", index=False, header=False)\n",
    "ends\n",
    "ends.loc[:, 'wld'] = ends.loc[:, 'status'].map({'loss':0, 'draw':.5, 'win':1})\n",
    "def compasint(i):\n",
    "    return int(float(i) - .01)\n",
    "# (ends.computer.unique().astype(float) - .01).astype(int)\n",
    "ends.loc[:, 'computer'] = ends.loc[:, 'computer'].map(compasint)\n",
    "ends.loc[:, 'tier'] = ends.loc[:, 'computer'] // 5"
   ]
  },
  {
   "cell_type": "code",
   "execution_count": null,
   "metadata": {
    "collapsed": false,
    "deletable": true,
    "editable": true
   },
   "outputs": [],
   "source": [
    "games_per_computer = pd.DataFrame(index=ends.subject.unique(), columns=np.arange(30))\n",
    "games_per_computer.loc[:, :] = 0\n",
    "\n",
    "wins_per_computer = pd.DataFrame(index=ends.subject.unique(), columns=np.arange(30))\n",
    "wins_per_computer.loc[:, :] = 0\n",
    "\n",
    "draws_per_computer = pd.DataFrame(index=ends.subject.unique(), columns=np.arange(30))\n",
    "draws_per_computer.loc[:, :] = 0\n",
    "\n",
    "\n",
    "endsnodraw = ends.loc[ends.status!='draw', :]\n",
    "endsdraw = ends.loc[ends.status=='draw', :]\n",
    "\n",
    "for s in endsnodraw.index.values:\n",
    "    wins_per_computer.loc[endsnodraw.loc[s, 'subject'], endsnodraw.loc[s, 'computer']] += endsnodraw.loc[s, 'wld']\n",
    "    \n",
    "for s in ends.index.values:\n",
    "    games_per_computer.loc[ends.loc[s, 'subject'], ends.loc[s, 'computer']] += 1\n",
    "    \n",
    "for s in endsdraw.index.values:\n",
    "    draws_per_computer.loc[endsdraw.loc[s, 'subject'], endsdraw.loc[s, 'computer']] += endsdraw.loc[s, 'wld']*2\n",
    "    \n",
    "games_per_computer.to_csv(data_out + 'games_x_computer.csv', header=False, index=False)\n",
    "wins_per_computer.to_csv(data_out + 'wins_x_computer.csv', header=False, index=False)\n",
    "draws_per_computer.to_csv(data_out + 'draws_x_computer.csv', header=False, index=False)"
   ]
  },
  {
   "cell_type": "code",
   "execution_count": null,
   "metadata": {
    "collapsed": false,
    "deletable": true,
    "editable": true
   },
   "outputs": [],
   "source": [
    "f, axes = plt.subplots(1, 2, figsize=(20,6), squeeze=False)\n",
    "\n",
    "dex = np.arange(30)\n",
    "rate_means = []\n",
    "rate_errs = []\n",
    "\n",
    "for _d in dex:\n",
    "    _e = ends.loc[(ends.computer==_d), 'wld'].values\n",
    "#     print(_d, _e.size, np.mean(_e))\n",
    "    m = np.mean(_e)\n",
    "    if _e.size > 0:\n",
    "        rate_means.append(m)\n",
    "#         rate_errs[_d] = np.std(_e)\n",
    "    else:\n",
    "        rate_means.append(np.nan)\n",
    "    \n",
    "axes[0,0].plot(dex, rate_means, color='black')\n",
    "axes[0,0].set_xlabel('Computer')\n",
    "\n",
    "dex = np.arange(6)\n",
    "tier_means = []\n",
    "\n",
    "for _d in dex:\n",
    "    _e = ends.loc[(ends.tier==_d), 'wld'].values\n",
    "    m = np.mean(_e)\n",
    "    if _e.size > 0:\n",
    "        tier_means.append(m)\n",
    "    else:\n",
    "        tier_means.append(np.nan)\n",
    "        \n",
    "axes[0,1].plot(dex, tier_means, color='black')\n",
    "axes[0,1].set_xlabel('Tier')\n",
    "sns.despine()\n",
    "f.savefig(figure_out + 'psychometric_curve_ai_all_subs.png', format='png')\n",
    "\n",
    "# resample means"
   ]
  },
  {
   "cell_type": "code",
   "execution_count": null,
   "metadata": {
    "collapsed": false,
    "deletable": true,
    "editable": true,
    "scrolled": false
   },
   "outputs": [],
   "source": [
    "f, axes = plt.subplots(1,1, figsize=(12,12), squeeze=False)\n",
    "axes[0, 0].plot([-1, 6], [1, 1], '--', color='grey')\n",
    "sns.regplot('tier', 'wld', data=ends, x_estimator=np.mean, fit_reg=True,\n",
    "            logistic=True, n_boot=len(ends), color='black', ax=axes[0,0], \n",
    "            scatter_kws={'s':150, 'linewidth':2}, line_kws={'linewidth':3})\n",
    "axes[0,0].set_ylim([0, 1.05])\n",
    "axes[0, 0].set_ylabel('Performance')\n",
    "axes[0,0].set_xlim([-.3, 5.3])\n",
    "axes[0,0].set_xlabel('Tier')\n",
    "sns.despine()\n",
    "f.savefig(figure_out + 'psychometric_curve.png', format='png')"
   ]
  },
  {
   "cell_type": "code",
   "execution_count": null,
   "metadata": {
    "collapsed": false,
    "deletable": true,
    "editable": true
   },
   "outputs": [],
   "source": [
    "# d = ai.loc[:, ['subject', 'color', 'bp', 'wp', 'response', 'computer', 'gi', 'mi', 'time']]\n",
    "# fig, axes = plt.subplots(nrows=len(d.subject.unique()), ncols=1, figsize=(10,15), squeeze=False)\n",
    "\n",
    "# for s in ai.subject.unique():\n",
    "#     curax = axes[s, 0]\n",
    "#     p = d.loc[(d.subject==s)&((d.mi==d.color)|(d.mi==d.color)), :]\n",
    "#     curax.plot(p.time.values - p.time.values[0], p.computer.values//5, label='bracket')\n",
    "#     curax.plot(p.time.values - p.time.values[0], p.computer.values/5, label='opponent')\n",
    "#     curax.legend()\n",
    "    \n",
    "# # fig.savefig(figure_out + 'opponent_path.png', format='png')"
   ]
  },
  {
   "cell_type": "code",
   "execution_count": null,
   "metadata": {
    "collapsed": false,
    "deletable": true,
    "editable": true
   },
   "outputs": [],
   "source": [
    "stdr[1]"
   ]
  },
  {
   "cell_type": "code",
   "execution_count": null,
   "metadata": {
    "collapsed": false,
    "deletable": true,
    "editable": true
   },
   "outputs": [],
   "source": [
    "# what bas wants: at each time, average value of current opponent\n",
    "d.loc[:, 'adjtime'] = np.concatenate([\n",
    "        d.loc[d.subject==s, 'time'].values - \n",
    "        d.loc[d.subject==s, 'time'].values[0] for s in d.subject.unique()])\n",
    "\n",
    "# time_bins1 = np.linspace(0, d.loc[:, 'adjtime'].max(), 101)\n",
    "time_bins2 = np.linspace(0, d.loc[:, 'adjtime'].max(), 11)\n",
    "\n",
    "_dd = d.sort('adjtime').reset_index(drop=True)\n",
    "\n",
    "x2 = []\n",
    "y2 = []\n",
    "err2 = []\n",
    "\n",
    "for t in range(len(time_bins2))[:-1]:\n",
    "    interval = time_bins2[t:t+2]\n",
    "    _ddd = _dd.loc[(_dd.adjtime >= interval[0]) & (_dd.adjtime < interval[1]), :]\n",
    "    x2.append(t)\n",
    "    y2.append((_ddd.loc[:, 'computer']//5).mean())\n",
    "    meanr, varr, stdr = sts.bayes_mvs(_ddd.loc[:, 'computer']//5)\n",
    "    err2.append(meanr[1])\n",
    "# print(err2)\n",
    "x2 = np.array(x2)\n",
    "y2 = np.array(y2)\n",
    "\n",
    "fig, axes = plt.subplots(1, 1, squeeze=False, figsize=(6,6))\n",
    "ax = axes[0,0]\n",
    "# ax.plot(x1, y1, color=P)\n",
    "ax.plot(np.array(x2)*11, y2, color='black')\n",
    "for er in range(len(err2)):\n",
    "    ax.plot([11*x2[er], 11*x2[er]], [err2[er][0], err2[er][1]], color='black')\n",
    "ax.set_xlabel('Time (% of total time)', fontsize=18)\n",
    "ax.set_ylim([0,5])\n",
    "ax.set_ylabel('Tier', fontsize=18)\n",
    "sns.despine()\n",
    "fig.savefig(figure_out + 'averaged_opponent.png', format='png')"
   ]
  },
  {
   "cell_type": "markdown",
   "metadata": {
    "deletable": true,
    "editable": true
   },
   "source": [
    "## AFC"
   ]
  },
  {
   "cell_type": "markdown",
   "metadata": {
    "deletable": true,
    "editable": true
   },
   "source": [
    "### Helper Functions"
   ]
  },
  {
   "cell_type": "code",
   "execution_count": null,
   "metadata": {
    "collapsed": false,
    "deletable": true,
    "editable": true
   },
   "outputs": [],
   "source": [
    "def plt_agrees(df, ptype=\"agree\", \n",
    "               ax=plt.gca(), fig=plt.gcf()):\n",
    "    \n",
    "    if ptype==\"agree\":\n",
    "        val = (df.values.sum() - len(df))/df.values.size\n",
    "        ax.set_title('Mean Agreement: ' + str(val)[:6])\n",
    "    elif ptype==\"dist\":\n",
    "        val = (df.values.sum() - .5*len(df)) / df.values.size\n",
    "        ax.set_title('Mean distance From Random : ' + str(val)[:6])\n",
    "    \n",
    "    sns.heatmap(data=df, vmin=df.values.min(), vmax=df.values.max(), \n",
    "            annot=True, cbar=False, ax=ax, square=True);\n",
    "        \n",
    "    return fig, axes, val;"
   ]
  },
  {
   "cell_type": "markdown",
   "metadata": {
    "deletable": true,
    "editable": true
   },
   "source": [
    "### Summary Table Of Agreements"
   ]
  },
  {
   "cell_type": "code",
   "execution_count": null,
   "metadata": {
    "collapsed": true,
    "deletable": true,
    "editable": true
   },
   "outputs": [],
   "source": [
    "dd = data.loc[data.status=='AFC2', :]\n",
    "\n",
    "for n in range(len(subjects)):\n",
    "    dd.loc[:, n] = np.nan\n",
    "\n",
    "for s1 in dd.subject.unique():\n",
    "    \n",
    "    for s2 in dd.subject.unique():\n",
    "        \n",
    "        for i in dd.loc[dd.subject == s1, :].index.values:\n",
    "            bp = dd.loc[i, 'bp']\n",
    "            wp = dd.loc[i, 'wp']\n",
    "            r = dd.loc[i, 'response']\n",
    "            condition = (dd.subject == s2) & (dd.bp == bp) & (dd.wp == wp)\n",
    "           \n",
    "            if len(dd.loc[condition, :]) == 1:\n",
    "                if dd.loc[condition, 'response'].values[0] == r:\n",
    "                    dd.loc[i, s2] = 1\n",
    "                else:\n",
    "                    dd.loc[i, s2] = 0\n",
    "\n",
    "afc_by_subject = [dd.loc[dd.subject==s, :].reset_index(drop=True) \n",
    "                  for s in dd.subject.unique()]\n",
    "\n",
    "ca_helper = pd.DataFrame(index=range(len(afc_by_subject)), \n",
    "                         columns=range(len(afc_by_subject)))\n",
    "\n",
    "for _s1 in range(len(afc_by_subject)):\n",
    "    s1 = afc_by_subject[_s1]\n",
    "    for _s2 in range(len(afc_by_subject)):\n",
    "        s2 = afc_by_subject[_s2]\n",
    "        _ag = (s1.loc[:, _s1] == s1.loc[:, _s2]).astype(int)\n",
    "        ca_helper.loc[_s1, _s2] = _ag.sum()/len(_ag)\n",
    "                                   \n",
    "ca_helper = ca_helper.astype(float)\n",
    "ca_dist = np.abs(ca_helper - .5)\n",
    "\n",
    "good_guys = ca_dist.loc[ca_dist.mean() >= ca_dist.values.mean(), :].index.values\n",
    "good_guys_ag = ca_helper.loc[good_guys, good_guys]\n",
    "good_guys_dist = ca_dist.loc[good_guys, good_guys]\n",
    "okay_guys = ca_dist.loc[ca_dist.mean() >= ca_dist.values.mean()*.75, :].index.values\n",
    "okay_ag = ca_helper.loc[okay_guys, okay_guys]\n",
    "okay_d = ca_dist.loc[okay_guys, okay_guys]"
   ]
  },
  {
   "cell_type": "code",
   "execution_count": null,
   "metadata": {
    "collapsed": true,
    "deletable": true,
    "editable": true
   },
   "outputs": [],
   "source": [
    "f, axes = plt.subplots(3, 2, figsize=(16, 30), squeeze=False)\n",
    "\n",
    "plt_agrees(okay_d, ptype=\"dist\", ax=axes[0,0]);\n",
    "plt_agrees(okay_ag, ptype=\"agree\", ax=axes[0,1]);\n",
    "plt_agrees(good_guys_dist, ptype=\"dist\", ax=axes[1,0]);\n",
    "plt_agrees(good_guys_ag, ptype=\"agree\", ax=axes[1,1]);\n",
    "plt_agrees(ca_helper, ptype=\"agree\", ax=axes[2,1]);\n",
    "plt_agrees(ca_dist, ptype=\"dist\", ax=axes[2,0]);\n",
    "f.savefig(figure_out + 'agreement_histograms.png', format='png')"
   ]
  },
  {
   "cell_type": "code",
   "execution_count": null,
   "metadata": {
    "collapsed": true,
    "deletable": true,
    "editable": true
   },
   "outputs": [],
   "source": [
    "data.loc[data.status=='AFC2', 'error'] = 1 - data.loc[data.status=='AFC2', 'error']\n",
    "data.loc[:, 'error'] = 1 - data.loc[:, 'error']"
   ]
  },
  {
   "cell_type": "code",
   "execution_count": null,
   "metadata": {
    "collapsed": false,
    "deletable": true,
    "editable": true
   },
   "outputs": [],
   "source": [
    "sns.set_style('white')\n",
    "afc_perf = np.array([data.loc[(data.subject==s)&(data.status=='AFC2')&(data.error!=.5), 'error'].mean() \n",
    "                     for s in data.subject.unique()])\n",
    "ai_perf = np.array([data.loc[(data.subject==s)&(~data.status.isin(['AFC2','EVAL'])), 'error'].mean() \n",
    "                    for s in data.subject.unique()])\n",
    "ai_ELO = np.array([224, 138, -45, 0, 29, -9, -5,57, -330, 115, -72, 164])\n",
    "\n",
    "\n",
    "f, axes = plt.subplots(1, 1, figsize=(6, 6), squeeze=False)\n",
    "ax = axes[0,0]\n",
    "ax.set_xlim([.75, 1])\n",
    "ax.set_ylim([0, 1])\n",
    "ax.set_xlabel('Performance In AI')\n",
    "ax.set_ylabel('Performance in AFC')\n",
    "sns.regplot(ai_perf, afc_perf, color='black', ax=ax, ci=False, line_kws={'linewidth':2})\n",
    "\n",
    "# ax = axes[0, 1]\n",
    "# ax.set_ylim([-400, 400])\n",
    "# ax.set_xlim([.5, 1])\n",
    "# ax.set_xlabel('Performance In AI')\n",
    "# ax.set_ylabel('ELO')\n",
    "# sns.regplot(ai_perf, ai_ELO, color='black', ax=ax, ci=False)\n",
    "\n",
    "sns.despine()\n",
    "# print(sts.pearsonr(ai_ELO, ai_perf))\n",
    "ax.text(x=.9, y=.8, s=\"r = \" + str(sts.pearsonr(ai_perf, afc_perf)[0])[:4], fontsize=18)\n",
    "ax.text(x=.9, y=.73, s=\"p = \" + str(sts.pearsonr(ai_perf, afc_perf)[1])[:4], fontsize=18)\n",
    "# print(sts.pearsonr(ai_ELO, afc_perf))\n",
    "f.savefig(figure_out + 'performance_afc_v_ai.png', format='png')"
   ]
  },
  {
   "cell_type": "code",
   "execution_count": null,
   "metadata": {
    "collapsed": false,
    "deletable": true,
    "editable": true
   },
   "outputs": [],
   "source": [
    "sns.set_style('white')\n",
    "f, axes = plt.subplots(1, 1, figsize=(7, 7), squeeze=False)\n",
    "ax = axes[0, 0]\n",
    "sns.barplot('subject', 'error', data=data.loc[(data.status=='AFC2')&(data.error != .5), :], ax=ax, color=R)\n",
    "ax.set_ylim([0,1])\n",
    "ax.set_xlabel('Subject')\n",
    "ax.set_ylabel('Performance')\n",
    "\n",
    "# ax = axes[0, 1]\n",
    "# ax.set_ylim([-400, 400])\n",
    "# ax.set_xlim([.5, 1])\n",
    "# ax.set_xlabel('Performance In AI')\n",
    "# ax.set_ylabel('ELO')\n",
    "# m, b, r, p, s = sts.linregress(ai_perf, ai_ELO)\n",
    "# ax.text(x=.8, y=300, s=\"r = \" + str(r)[:4], fontsize=18)\n",
    "# ax.text(x=.8, y=250, s=\"p = \" + str(p)[:4], fontsize=18)\n",
    "# sns.regplot(ai_perf, ai_ELO, color='black', ax=ax, ci=False, line_kws={'linewidth':2})\n",
    "\n",
    "sns.despine()\n",
    "f.savefig(figure_out + 'performance_by_subject.png', format='png')"
   ]
  },
  {
   "cell_type": "code",
   "execution_count": null,
   "metadata": {
    "collapsed": false,
    "deletable": true,
    "editable": true
   },
   "outputs": [],
   "source": [
    "arf = data.loc[(data.status=='AFC2')&(data.error != .5), :]\n",
    "arf.loc[:, 'wholeboard'] = arf.loc[:, 'bp'] + arf.loc[:, 'wp']\n",
    "\n",
    "perf = np.array([np.nanmean(arf.loc[arf.wholeboard == b, 'error']) \n",
    "                 for b in arf.wholeboard.unique()])\n",
    "np.sort(perf)\n",
    "easy = arf.loc[arf.wholeboard == arf.wholeboard.unique()[perf.argmax()], :]\n",
    "hard = arf.loc[arf.wholeboard == arf.wholeboard.unique()[perf.argmin()], :]\n",
    "hard"
   ]
  },
  {
   "cell_type": "code",
   "execution_count": null,
   "metadata": {
    "collapsed": false,
    "deletable": true,
    "editable": true
   },
   "outputs": [],
   "source": [
    "f, ax = plt.subplots(1,1,figsize=(10,8))\n",
    "sns.distplot(perf, norm_hist=False, kde=False, bins=np.linspace(0, 1, 14), color='black')\n",
    "ax.set_xticks([0, 1])\n",
    "ax.set_xticklabels([0, 1], fontsize=32)\n",
    "ax.set_yticklabels(list(range(8)), fontsize=32)\n",
    "ax.set_ylabel('')\n",
    "ax.set_xlabel('Performance Levels', fontsize=32)\n",
    "sns.despine()\n",
    "f.savefig(figure_out + 'performance level histogram.png', format='png')"
   ]
  },
  {
   "cell_type": "code",
   "execution_count": null,
   "metadata": {
    "collapsed": false,
    "deletable": true,
    "editable": true
   },
   "outputs": [],
   "source": [
    "hard"
   ]
  },
  {
   "cell_type": "markdown",
   "metadata": {
    "deletable": true,
    "editable": true
   },
   "source": [
    "## Evaluation"
   ]
  },
  {
   "cell_type": "code",
   "execution_count": null,
   "metadata": {
    "collapsed": false,
    "deletable": true,
    "editable": true
   },
   "outputs": [],
   "source": [
    "def expandposition(string):\n",
    "    _q = np.array(list(string)).astype(int)\n",
    "    return np.where(_q==1)[0]\n",
    "\n",
    "def plotpos(frame, axe):\n",
    "    bp = expandposition(frame.loc[frame.index.values[0], 'bp'])\n",
    "    wp = expandposition(frame.loc[frame.index.values[0], 'wp'])\n",
    "    a = frame.loc[frame.index.values[0], 'a']\n",
    "    b = frame.loc[frame.index.values[0], 'b']\n",
    "    c = frame.loc[frame.index.values[0], 'color']\n",
    "    if c==0:\n",
    "        correct = a if a > b else b\n",
    "    elif c==1:\n",
    "        correct = a if a < b else b\n",
    "    \n",
    "    bpx = bp % 9\n",
    "    bpy = bp // 9\n",
    "    wpx = wp %9\n",
    "    wpy = wp //9\n",
    "    ax = a%9\n",
    "    ay = a//9\n",
    "    bx = b%9\n",
    "    by = b//9\n",
    "    cx = correct % 9\n",
    "    cy = correct // 9\n",
    "    \n",
    "    axe.scatter(bpx, bpy, c='black', s= 1000)\n",
    "    axe.scatter(wpx, wpy, c='white', s=1000)\n",
    "    axe.scatter([ax, bx], [ay, by], s=1000, \n",
    "                facecolor='none', edgecolor='white' if c else 'black', linewidth=3)\n",
    "    axe.scatter(cx, cy, s=200, c=R)\n",
    "    axe.set_axis_bgcolor('grey')\n",
    "    axe.set_xticks(np.arange(10)+.5)\n",
    "    axe.set_yticks(np.arange(4) + .5)\n",
    "    axe.set_xticklabels([])\n",
    "    axe.set_yticklabels([])\n",
    "    axe.set_ylim([-.5, 3.5])\n",
    "    axe.set_xlim([-.5, 8.5])\n",
    "    axe.set_aspect(1)\n",
    "    return frame.error.mean()\n",
    "\n",
    "sns.set_style('darkgrid')\n",
    "f, axes = plt.subplots(1, 2, figsize=(16, 12), squeeze=False)\n",
    "\n",
    "title1 = plotpos(hard, axe=axes[0, 0])\n",
    "axes[0, 0].set_title('Performance = ' + str(title1)[:4])\n",
    "title2 = plotpos(easy, axe=axes[0, 1])\n",
    "axes[0, 1].set_title('Performance = ' + str(title2)[:4])\n",
    "sns.despine()\n",
    "f.savefig(figure_out + 'easy_hard_examples_with_markers.png', format='png')"
   ]
  },
  {
   "cell_type": "code",
   "execution_count": null,
   "metadata": {
    "collapsed": false,
    "deletable": true,
    "editable": true
   },
   "outputs": [],
   "source": [
    "evapreds = pd.read_csv(data_out + 'eval_pred.csv')\n",
    "evapreds.columns = evapreds.loc[0, :]\n",
    "evapreds = evapreds.loc[1:, :].reset_index(drop=True).astype(float)"
   ]
  },
  {
   "cell_type": "code",
   "execution_count": null,
   "metadata": {
    "collapsed": false,
    "deletable": true,
    "editable": true
   },
   "outputs": [],
   "source": [
    "sns.regplot('Observed Ranking', 'dfs', data=evapreds)"
   ]
  },
  {
   "cell_type": "code",
   "execution_count": null,
   "metadata": {
    "collapsed": false,
    "deletable": true,
    "editable": true
   },
   "outputs": [],
   "source": [
    "for n in range(len(subjects)):\n",
    "    eva.loc[:, n] = np.nan\n",
    "\n",
    "for s1 in eva.subject.unique():\n",
    "    \n",
    "    for s2 in eva.subject.unique():\n",
    "        \n",
    "        for i in eva.loc[eva.subject == s1, :].index.values:\n",
    "            bp = eva.loc[i, 'bp']\n",
    "            wp = eva.loc[i, 'wp']\n",
    "            r = eva.loc[i, 'response']\n",
    "            condition = (eva.subject == s2) & (eva.bp == bp) & (eva.wp == wp)\n",
    "           \n",
    "            if len(eva.loc[condition, :]) == 1:\n",
    "                eva.loc[i, s2] = eva.loc[condition, 'response'].values[0]\n",
    "            elif len(eva.loc[condition, :]) > 1:\n",
    "                eva.loc[i, s2] = eva.loc[condition, 'response'].values.mean()\n",
    "\n",
    "eva.loc[:, 'mean_response'] = eva.loc[:, range(12)].mean(axis=1)\n",
    "eva.loc[:, 'mean_dist_mean'] = np.abs((eva.loc[:, range(12)] - eva.loc[:, 'mean_response'])).mean(axis=1)"
   ]
  }
 ],
 "metadata": {
  "kernelspec": {
   "display_name": "Python [default]",
   "language": "python",
   "name": "python3"
  },
  "language_info": {
   "codemirror_mode": {
    "name": "ipython",
    "version": 3
   },
   "file_extension": ".py",
   "mimetype": "text/x-python",
   "name": "python",
   "nbconvert_exporter": "python",
   "pygments_lexer": "ipython3",
   "version": "3.5.2"
  }
 },
 "nbformat": 4,
 "nbformat_minor": 0
}
