{
 "cells": [
  {
   "cell_type": "markdown",
   "metadata": {
    "deletable": true,
    "editable": true
   },
   "source": [
    "# Experiment 0"
   ]
  },
  {
   "cell_type": "markdown",
   "metadata": {
    "deletable": true,
    "editable": true
   },
   "source": [
    "## To Do\n",
    "\n",
    "* Function that appends objective values to boards\n",
    "* Fuction that recreates game in real time as movie\n",
    "* Function that counts number of pieces on the board"
   ]
  },
  {
   "cell_type": "markdown",
   "metadata": {
    "deletable": true,
    "editable": true
   },
   "source": [
    "## Setup"
   ]
  },
  {
   "cell_type": "markdown",
   "metadata": {
    "deletable": true,
    "editable": true
   },
   "source": [
    "### Import Packages"
   ]
  },
  {
   "cell_type": "code",
   "execution_count": null,
   "metadata": {
    "collapsed": false,
    "deletable": true,
    "editable": true
   },
   "outputs": [],
   "source": [
    "import numpy as np\n",
    "import pandas as pd\n",
    "import matplotlib\n",
    "matplotlib.use('TkAgg')\n",
    "import matplotlib.pyplot as plt\n",
    "import matplotlib.animation as ani\n",
    "import scipy.optimize as opt\n",
    "import scipy.stats as sts\n",
    "import seaborn as sns\n",
    "%cd ~/Google Drive/MNK/Experiments/0 Two Player Free Play/"
   ]
  },
  {
   "cell_type": "markdown",
   "metadata": {
    "deletable": true,
    "editable": true
   },
   "source": [
    "### Set Directories"
   ]
  },
  {
   "cell_type": "code",
   "execution_count": null,
   "metadata": {
    "collapsed": true,
    "deletable": true,
    "editable": true
   },
   "outputs": [],
   "source": [
    "data_source = 'Data & Analysis/Clean/'\n",
    "figure_out = 'Data & Analysis/Figures/weiji_talk/'"
   ]
  },
  {
   "cell_type": "markdown",
   "metadata": {
    "deletable": true,
    "editable": true
   },
   "source": [
    "### Helper Functions"
   ]
  },
  {
   "cell_type": "code",
   "execution_count": null,
   "metadata": {
    "collapsed": true,
    "deletable": true,
    "editable": true
   },
   "outputs": [],
   "source": [
    "def detect_error(row):\n",
    "    is_error = np.nan\n",
    "    if row.color == 0:  \n",
    "        is_error = 1 if row.gtv < row.posqual else 0\n",
    "    else:  \n",
    "        is_error = 1 if row.gtv > row.posqual else 0  \n",
    "    return is_error\n",
    "\n",
    "def array_from_string_rep(stringrep):\n",
    "    return np.array(list(stringrep)).astype(int)\n",
    "\n",
    "def count_pieces(stringrep):\n",
    "    return array_from_string_rep(stringrep).sum()"
   ]
  },
  {
   "cell_type": "markdown",
   "metadata": {
    "deletable": true,
    "editable": true
   },
   "source": [
    "### Load Data"
   ]
  },
  {
   "cell_type": "markdown",
   "metadata": {
    "deletable": true,
    "editable": true
   },
   "source": [
    "#### Experimental Data"
   ]
  },
  {
   "cell_type": "code",
   "execution_count": null,
   "metadata": {
    "collapsed": false,
    "deletable": true,
    "editable": true
   },
   "outputs": [],
   "source": [
    "data = pd.read_csv(data_source + 'all_data_with_initials0.csv')\n",
    "data = data.loc[:, data.columns.values[1:]]\n",
    "\n",
    "data.loc[:, 'num_pieces'] = data.loc[:, 'bp'].map(count_pieces) + data.loc[:, 'wp'].map(count_pieces)"
   ]
  },
  {
   "cell_type": "markdown",
   "metadata": {
    "deletable": true,
    "editable": true
   },
   "source": [
    "#### Parameters and Fits"
   ]
  },
  {
   "cell_type": "code",
   "execution_count": null,
   "metadata": {
    "collapsed": false,
    "deletable": true,
    "editable": true
   },
   "outputs": [],
   "source": [
    "logliks = pd.read_csv(data_source + 'loglik_all.csv')\n",
    "params_hk = pd.read_csv(data_source + 'params_HK.txt', sep='\\t', names=range(15))\n",
    "bfs_names = ['K0', 'Gamma', 'Lapse Rate', 'Delta', \n",
    "             'Vertical Scale', 'Diagonal Scale', 'Opponent Scale', \n",
    "             'Feature 0', 'Feature 1', 'Feature 2', 'Feature 3', \n",
    "             'Feature 4', 'Feature 5', 'Feature 6', 'Feature 7']\n",
    "params_bfs = pd.read_csv(data_source + 'params_bfs.txt', sep='\\t', names=bfs_names)\n",
    "logliks = logliks.loc[:37, :]\n",
    "logliks.loc[:, 'ID'] = logliks.loc[:, 'Initials'].map(dict(zip(data.inits.unique(), np.arange(len(data.inits.unique())))))\n",
    "meltnames = ['Depth-first', 'Best-first', 'Optrand', 'Notree', 'Myopic', 'Chance']\n",
    "tidy_ll = pd.melt(logliks, id_vars=['ID'], value_vars=meltnames, \n",
    "                  var_name='Model', value_name='ll')"
   ]
  },
  {
   "cell_type": "markdown",
   "metadata": {
    "deletable": true,
    "editable": true
   },
   "source": [
    "#### Objective values"
   ]
  },
  {
   "cell_type": "code",
   "execution_count": null,
   "metadata": {
    "collapsed": true,
    "deletable": true,
    "editable": true
   },
   "outputs": [],
   "source": [
    "objlists = ['objective_values_gen2.txt', 'objective_values_hvh.txt', 'objective_values_eye.txt']\n",
    "obj = pd.concat([pd.read_csv(data_source + o, sep='\\t', \n",
    "                            names=['bp', 'wp'] + list(range(36))) \n",
    "                for o in objlists]).reset_index(drop=True)"
   ]
  },
  {
   "cell_type": "code",
   "execution_count": null,
   "metadata": {
    "collapsed": false,
    "deletable": true,
    "editable": true
   },
   "outputs": [],
   "source": [
    "data.loc[:, 'gtv'] = np.nan\n",
    "data.loc[:, 'posqual'] = np.nan\n",
    "data.loc[:, 'error'] = np.nan\n",
    "\n",
    "for i in data.index.values:\n",
    "    \n",
    "    r = int(data.loc[i, 'response'])\n",
    "    bp = data.loc[i, 'bp']\n",
    "    wp = data.loc[i, 'wp']\n",
    "    c = data.loc[i, 'color']\n",
    "    \n",
    "    match = obj.loc[(obj.bp == bp) & (obj.wp == wp), :]\n",
    "    \n",
    "    if len(match) >= 1:\n",
    "        gtv = match.loc[:, 35-r].values[0]\n",
    "        pqual = np.nanmax(match.loc[:, list(range(35))].values[0])\n",
    "        \n",
    "        data.loc[i, 'gtv'] = gtv\n",
    "        data.loc[i, 'posqual'] = pqual if c == 0 else -pqual\n",
    "        \n",
    "    data.loc[i, 'error'] = detect_error(data.loc[i, :])\n",
    "\n",
    "data.loc[0, 'gtv'] = data.loc[0, 'gtv'].astype(float)"
   ]
  },
  {
   "cell_type": "markdown",
   "metadata": {
    "deletable": true,
    "editable": true
   },
   "source": [
    "### Plotting"
   ]
  },
  {
   "cell_type": "code",
   "execution_count": null,
   "metadata": {
    "collapsed": false,
    "deletable": true,
    "editable": true
   },
   "outputs": [],
   "source": [
    "sns.set_palette('deep')\n",
    "sns.set_style('white')\n",
    "sns.set_context('poster')\n",
    "B, G, R, P = sns.color_palette('deep', 4)\n",
    "%matplotlib inline"
   ]
  },
  {
   "cell_type": "markdown",
   "metadata": {
    "deletable": true,
    "editable": true
   },
   "source": [
    "## Boilerplate Stuff"
   ]
  },
  {
   "cell_type": "code",
   "execution_count": null,
   "metadata": {
    "collapsed": false,
    "deletable": true,
    "editable": true
   },
   "outputs": [],
   "source": [
    "numgames = np.array([data.loc[data.subject==s, 'gi'].max()\n",
    "        for s in data.subject.unique()\n",
    "    ])\n",
    "f, axes = plt.subplots(1, 1, figsize=(10, 5), squeeze=False)\n",
    "sns.distplot(numgames, ax=axes[0, 0], color='black', kde=False, norm_hist=False, bins=20)\n",
    "axes[0, 0].set_xlabel('# Games')\n",
    "axes[0, 0].set_yticklabels([])\n",
    "axes[0, 0].set_ylabel('Subject')\n",
    "axes[0, 0].text(x=30, y=7, s='mean    = ' + str(numgames.mean())[:4], fontsize=18)\n",
    "axes[0, 0].text(x=30, y=6.3, s='median = ' + str(np.median(numgames))[:4], fontsize=18)\n",
    "sns.despine()\n",
    "f.savefig(figure_out + 'games_per_subject.png', format='png')"
   ]
  },
  {
   "cell_type": "markdown",
   "metadata": {
    "deletable": true,
    "editable": true
   },
   "source": [
    "### Moves per game"
   ]
  },
  {
   "cell_type": "code",
   "execution_count": null,
   "metadata": {
    "collapsed": false,
    "deletable": true,
    "editable": true
   },
   "outputs": [],
   "source": [
    "nummoves = np.array([data.loc[(data.subject==s)&(data.gi==g), 'mi'].max() \n",
    "            for s in data.subject.unique() \n",
    "            for g in data.loc[data.subject == s, 'gi'].unique()])\n",
    "\n",
    "f, axes = plt.subplots(1, 1, figsize=(10, 5), squeeze=False)\n",
    "sns.distplot(nummoves[np.where(nummoves >= 7)[0]], \n",
    "             ax=axes[0, 0], color='black', kde=False, norm_hist=False,\n",
    "             bins=np.linspace(7, 36, 30))\n",
    "axes[0, 0].set_xlabel('# Moves')\n",
    "axes[0, 0].set_yticklabels([])\n",
    "axes[0, 0].set_ylabel('Games')\n",
    "axes[0, 0].text(x=21, y=40, s='mean    = ' + str(nummoves.mean())[:4], fontsize=18)\n",
    "axes[0, 0].text(x=21, y=35, s='median = ' + str(np.median(nummoves))[:4], fontsize=18)\n",
    "axes[0, 0].set_xlim([7, 36])\n",
    "sns.despine()\n",
    "f.savefig(figure_out + 'moves_per_game.png', format='png')"
   ]
  },
  {
   "cell_type": "markdown",
   "metadata": {
    "deletable": true,
    "editable": true
   },
   "source": [
    "## Model Statistics"
   ]
  },
  {
   "cell_type": "markdown",
   "metadata": {
    "deletable": true,
    "editable": true
   },
   "source": [
    "### Loglikelihood Comparisons"
   ]
  },
  {
   "cell_type": "code",
   "execution_count": null,
   "metadata": {
    "collapsed": false,
    "deletable": true,
    "editable": true
   },
   "outputs": [],
   "source": [
    "g = sns.pairplot(logliks, vars=['Depth-first', 'Best-first', 'Optrand', 'Notree', 'Myopic'],\n",
    "                palette=sns.color_palette(['#000000']), hue='ID')\n",
    "line = {'xdata':[0, 3.2], 'ydata':[0, 3.2]}\n",
    "g.map_offdiag(plt.plot, color='black', alpha=.1, **line)\n",
    "g.set(xlim=[0, 3.2], ylim=[0, 3.2])\n",
    "\n",
    "tops = [1, 2, 3, 4, 7, 8, 9, 13, 14, 19]\n",
    "bottoms = [5, 10, 11, 15, 16, 17, 20, 21, 22, 23, 24]\n",
    "middles = [0, 6, 12, 18, 24]\n",
    "\n",
    "for i in tops:\n",
    "    g.fig.axes[i].set_visible(False)\n",
    "\n",
    "g._legend.set_visible(False);\n",
    "g.fig.savefig(figure_out + 'model_crossperformance_with_hists.png', format='png')\n"
   ]
  },
  {
   "cell_type": "markdown",
   "metadata": {
    "collapsed": true,
    "deletable": true,
    "editable": true
   },
   "source": [
    "### Parameter Histograms"
   ]
  },
  {
   "cell_type": "code",
   "execution_count": null,
   "metadata": {
    "collapsed": false,
    "deletable": true,
    "editable": true
   },
   "outputs": [],
   "source": [
    "fig, axes = plt.subplots(nrows=5, ncols=3, figsize=(15, 20), squeeze=False)\n",
    "\n",
    "for i in range(15)[1:]:\n",
    "    axi = i - 1\n",
    "    curax = axes[axi // 3, axi%3]\n",
    "    vals = params_bfs.loc[:, bfs_names[i]]\n",
    "    sns.distplot(vals, color='black', ax=curax, \n",
    "                 bins=np.linspace(vals.min(), vals.max(), 21), kde=False)\n",
    "    curax.set_xlabel(bfs_names[i])\n",
    "sns.despine()\n",
    "fig.tight_layout()\n",
    "fig.savefig(figure_out + \"BFS_param_hists.png\", format='png')"
   ]
  },
  {
   "cell_type": "markdown",
   "metadata": {
    "deletable": true,
    "editable": true
   },
   "source": [
    "## Behavioral Statistics"
   ]
  },
  {
   "cell_type": "markdown",
   "metadata": {
    "deletable": true,
    "editable": true
   },
   "source": [
    "### Response Times"
   ]
  },
  {
   "cell_type": "markdown",
   "metadata": {
    "deletable": true,
    "editable": true
   },
   "source": [
    "#### Histograms by subject"
   ]
  },
  {
   "cell_type": "code",
   "execution_count": null,
   "metadata": {
    "collapsed": false,
    "deletable": true,
    "editable": true,
    "scrolled": false
   },
   "outputs": [],
   "source": [
    "def time_hist(data, ax, color='black'):\n",
    "    rts = data.loc[:, 'rt']\n",
    "    nrts = rts/rts.sum()\n",
    "    rt_median = np.median(rts)\n",
    "    sns.distplot(rts, ax=ax, bins=range(30), color=color, norm_hist=True, kde=False)\n",
    "#     sns.kdeplot(rts, ax=ax, color=color, shade=True, legend=False, **{'label':''})\n",
    "    ax.plot([rt_median, rt_median], [0, 1], color=color, \n",
    "            linewidth=2, alpha=.7, label=\"median = \" + str(rt_median))\n",
    "    ax.set_xlim([0, 30])\n",
    "    ax.set_ylim([0, .4])\n",
    "    ax.legend()\n",
    "    return ax\n",
    "    \n",
    "f, axes = plt.subplots(10, 2, figsize=(15,50), sharex=True, sharey=True, squeeze=False)\n",
    "\n",
    "for s in range(19):\n",
    "    curax = axes[s//2, s%2]\n",
    "    _s = 2*s\n",
    "    s1 = data.loc[data.subject==_s, :]\n",
    "    s2 = data.loc[data.subject==(_s+1), :]\n",
    "    time_hist(s1, curax)\n",
    "    time_hist(s2, curax, color=R)\n",
    "    curax.set_xlabel(str(_s) + ' - ' + str(_s+1))\n",
    "    curax.set_yticklabels([])\n",
    "\n",
    "axes[9,1].set_visible(False)\n",
    "sns.despine()   \n",
    "f.text(x=.5, y=.91, s='Response Time')\n",
    "f.savefig(figure_out + \"response_hists.png\", format='png');"
   ]
  },
  {
   "cell_type": "code",
   "execution_count": null,
   "metadata": {
    "collapsed": false,
    "deletable": true,
    "editable": true
   },
   "outputs": [],
   "source": [
    "f, axes = plt.subplots(1, 1, figsize=(10,10), squeeze=False)\n",
    "\n",
    "x = np.array([np.median(data.loc[data.subject == i, 'rt']) \n",
    "              for i in data.loc[data.subject%2 == 1, 'subject'].unique()])\n",
    "y = np.array([np.median(data.loc[data.subject == i, 'rt']) \n",
    "              for i in data.loc[data.subject%2 == 0, 'subject'].unique()])\n",
    "\n",
    "m, b, r, p, err = sts.linregress(x,y)\n",
    "xl = np.linspace(0, 30, 11)\n",
    "yl = m*xl + b\n",
    "\n",
    "ax = axes[0, 0]\n",
    "ax.scatter(x, y, c='black')\n",
    "ax.set_xlim([0,30])\n",
    "ax.set_xlabel(\"First Player Median Response\")\n",
    "ax.set_ylim([0, 30])\n",
    "ax.set_ylabel(\"Second Player Median Response\")\n",
    "ax.set_title(\"Median Response Correlation In Opponent Pairs\")\n",
    "f.text(x=.8, y=.8, s=\"r = \" + str(r)[:4], size=18)\n",
    "f.text(x=.8, y=.77, s=\"p  = \" + str(p)[:6], size=18)\n",
    "ax.plot(xl, yl, color='black')\n",
    "sns.despine()\n",
    "f.savefig(figure_out + \"response_correlation.png\", format=\"png\")"
   ]
  },
  {
   "cell_type": "markdown",
   "metadata": {
    "deletable": true,
    "editable": true
   },
   "source": [
    "## Objective Errors"
   ]
  },
  {
   "cell_type": "code",
   "execution_count": null,
   "metadata": {
    "collapsed": false,
    "deletable": true,
    "editable": true
   },
   "outputs": [],
   "source": [
    "f, axes = plt.subplots(1, 2, figsize=(20,6), squeeze=False)\n",
    "\n",
    "sns.kdeplot(data.loc[data.error==0, 'rt'], color='black', ax=axes[0, 0], shade=True, **{'label':'No error'})\n",
    "sns.kdeplot(data.loc[data.error==1, 'rt'], color=P, ax=axes[0, 0], shade=True, **{'label':'Error'})\n",
    "axes[0,0].plot([np.median(data.loc[data.error==0, 'rt']), np.median(data.loc[data.error==0, 'rt'])],\n",
    "              [0, 100], color='black')\n",
    "axes[0,0].plot([np.median(data.loc[data.error==1, 'rt']), np.median(data.loc[data.error==1, 'rt'])],\n",
    "              [0, 100], color=P)\n",
    "axes[0,0].set_xlim([0, 30])\n",
    "axes[0,0].set_xlabel('Response Time')\n",
    "axes[0,0].set_ylim([0, .15])\n",
    "axes[0,0].set_yticklabels([])\n",
    "\n",
    "\n",
    "sns.barplot('error', 'rt', data=data, ax=axes[0,1], color='grey')\n",
    "t, p = sts.ttest_ind(data.loc[data.error==0, 'rt'].values, data.loc[data.error==1, 'rt'].values)\n",
    "axes[0,1].text(x=-.4, y=8.75, s=\"p = \" + str(p), size=18)\n",
    "axes[0,1].set_xlabel('Error')\n",
    "\n",
    "sns.despine()\n",
    "f.savefig(figure_out + 'group_diff_error.png', format='png')\n"
   ]
  },
  {
   "cell_type": "code",
   "execution_count": null,
   "metadata": {
    "collapsed": false,
    "deletable": true,
    "editable": true,
    "scrolled": false
   },
   "outputs": [],
   "source": [
    "f, axes = plt.subplots(nrows=9, ncols=4, figsize=(20, 35), squeeze=False, sharex=True, sharey=True)\n",
    "\n",
    "for i in range(36):\n",
    "    crax = axes[i//4, i%4]\n",
    "    sns.distplot(data.loc[data.mi==i, 'rt'], ax=crax)\n",
    "    crax.set_xlim([0,30])\n",
    "    crax.set_ylim([0, .5])\n",
    "    crax.set_xlabel('Num_Pieces = ' + str(i))\n",
    "    \n",
    "sns.despine()"
   ]
  },
  {
   "cell_type": "code",
   "execution_count": null,
   "metadata": {
    "collapsed": false,
    "deletable": true,
    "editable": true
   },
   "outputs": [],
   "source": [
    "f, axes = plt.subplots(1,1,figsize=(10,10),squeeze=False)\n",
    "\n",
    "sns.barplot('mi', 'rt', data=data, estimator=np.median, ax=axes[0,0], ci=95)\n",
    "sns.despine()"
   ]
  },
  {
   "cell_type": "code",
   "execution_count": null,
   "metadata": {
    "collapsed": false,
    "deletable": true,
    "editable": true
   },
   "outputs": [],
   "source": [
    "meds = np.array([np.median(data.loc[data.mi==i, 'rt']) for i in range(36)])\n",
    "mens = np.array([np.mean(data.loc[data.mi==i, 'rt']) for i in range(36)])\n",
    "sds = np.zeros(36)\n",
    "sds2 = np.zeros(36)\n",
    "for i in range(36):\n",
    "    d = data.loc[data.mi==i, 'rt']\n",
    "    sds[i] = np.mean(np.abs(d - meds[i]))\n",
    "    sds2[i] = np.mean(np.abs(d-mens[i]))\n",
    "\n",
    "plt.plot(np.arange(36), meds)\n",
    "plt.plot(np.arange(36), sds)\n",
    "plt.plot(np.arange(36), mens)\n",
    "plt.plot(np.arange(36), sds2)\n",
    "sns.despine()"
   ]
  },
  {
   "cell_type": "code",
   "execution_count": null,
   "metadata": {
    "collapsed": true,
    "deletable": true,
    "editable": true
   },
   "outputs": [],
   "source": [
    "# f, axes = plt.subplots(nrows=38, ncols=2, figsize=(10,80), \n",
    "#                        squeeze=False, sharex=True, sharey=True)\n",
    "\n",
    "# for i in data.subject.unique():\n",
    "#     curax = axes[i, 0]\n",
    "#     sns.distplot(data.loc[(data.subject==i)&(data.error==0), 'rt'], norm_hist=True, ax=curax, \n",
    "#                  color='black', kde=False, bins=list(range(30)))\n",
    "#     curax = axes[i, 1]\n",
    "#     sns.distplot(data.loc[(data.subject==i)&(data.error==1), 'rt'], norm_hist=True, ax=curax, \n",
    "#                  color='black', kde=False, bins=list(range(30)))\n",
    "    \n",
    "#     # collapse across subject, kde\n",
    "#     # mean + std er for two types: rt by error or error for each subject, with error bar\n",
    "    \n",
    "# sns.despine()"
   ]
  },
  {
   "cell_type": "code",
   "execution_count": null,
   "metadata": {
    "collapsed": false,
    "deletable": true,
    "editable": true
   },
   "outputs": [],
   "source": [
    "errs = pd.DataFrame(data=np.array([data.subject.unique(), \n",
    "                       [data.loc[data.subject == s, 'error'].sum() / len(data.loc[data.subject == s, 'error'])\n",
    "                       for s in data.subject.unique()]]).T, columns=['subject', 'error_rate'])\n",
    "\n",
    "logliks.loc[:, 'error_rate'] = errs.loc[:, 'error_rate']\n",
    "\n",
    "f, axes = plt.subplots(1, 2, figsize=(20, 6), squeeze=False)\n",
    "\n",
    "sns.distplot(errs.error_rate, kde=False, ax=axes[0,0],\n",
    "             bins=np.linspace(0,1,21), color='black')\n",
    "\n",
    "axes[0,0].set_xlabel('Error Rate')\n",
    "\n",
    "sns.regplot('Best-first', 'error_rate', data=logliks, ax=axes[0,1], color='black')\n",
    "\n",
    "x = logliks.loc[:, 'Best-first']\n",
    "y = logliks.loc[:, 'error_rate']\n",
    "m, b, r, p, err = sts.linregress(x,y)\n",
    "\n",
    "axes[0, 1].text(s='r2 = ' + str(r**2)[:6], x=2.5, y=.7, size=18)\n",
    "axes[0, 1].text(s='p = ' + str(p)[:6], x=2.5, y=.65, size=18)\n",
    "axes[0,1].set_xlabel('Best-first NLL')\n",
    "axes[0,1].set_ylabel('Error Rate')\n",
    "\n",
    "sns.despine()\n",
    "f.savefig(figure_out + 'error_rates.png', format='png')\n"
   ]
  },
  {
   "cell_type": "markdown",
   "metadata": {
    "deletable": true,
    "editable": true
   },
   "source": [
    "## Movie Time"
   ]
  },
  {
   "cell_type": "code",
   "execution_count": null,
   "metadata": {
    "collapsed": false,
    "deletable": true,
    "editable": true
   },
   "outputs": [],
   "source": [
    "test"
   ]
  },
  {
   "cell_type": "code",
   "execution_count": null,
   "metadata": {
    "collapsed": false,
    "deletable": true,
    "editable": true
   },
   "outputs": [],
   "source": [
    "s = 4\n",
    "gi = 3\n",
    "\n",
    "test = data.loc[data.subject.isin([s, s+1]) & (data.gi == gi), :].copy().reset_index(drop=True)\n",
    "test.loc[:, 'movietime'] = test.loc[:, 'time'].cumsum() - test.loc[0, 'time']\n",
    "test.loc[:, 'movietime'] = test.loc[:, 'movietime'] * 1000 / test.loc[:, 'movietime'].max()\n",
    "test"
   ]
  },
  {
   "cell_type": "code",
   "execution_count": null,
   "metadata": {
    "collapsed": false,
    "deletable": true,
    "editable": true
   },
   "outputs": [],
   "source": [
    "def shape_helper(stringrep):\n",
    "    a = 35 - np.where(array_from_string_rep(stringrep)==1)[0]\n",
    "    axy = np.zeros([2, a.size])\n",
    "    axy[0, :] = a % 9 + .5\n",
    "    axy[1, :] = a // 9 + .5\n",
    "    return axy\n",
    "    \n",
    "def shape_position(row):\n",
    "    b = shape_helper(row.bp)\n",
    "    w = shape_helper(row.wp)\n",
    "    return b, w\n",
    "\n",
    "def shape_move(row):\n",
    "    r = 35 - row.response\n",
    "    return np.array([r % 9 + .5, r // 9 + .5]).T\n",
    "\n",
    "def plot_position(row):\n",
    "    msiz = 6000\n",
    "#     b, w = shape_position(row)\n",
    "#     plt.scatter(b[0], b[1], c='black', s=msiz)\n",
    "#     plt.scatter(w[0], w[1], c='white', s=msiz)\n",
    "    if int(row.color) == 0:\n",
    "        c = 'black'\n",
    "    else:\n",
    "        c = 'white'\n",
    "    m = shape_move(row)\n",
    "    ax = plt.gca()\n",
    "    ax.scatter(m[0], m[1], c=c, s=msiz)\n",
    "    return ax\n",
    "\n",
    "def movie_init():\n",
    "    ax = plt.gca()\n",
    "    ax.set_xlim([0,9])\n",
    "    ax.set_ylim([0,4])\n",
    "    ax.set_aspect(1)\n",
    "    ax.grid()\n",
    "    ax.set_xticks(np.arange(10))\n",
    "    ax.set_yticks(np.arange(5))\n",
    "    ax.set_axis_bgcolor('grey')\n",
    "    ax.set_xticklabels([])\n",
    "    ax.set_yticklabels([])\n",
    "    sns.despine()\n",
    "    ax.spines['bottom'].set_visible(False)\n",
    "    ax.spines['left'].set_visible(False)\n",
    "    return ax\n",
    "\n",
    "nframes=550\n",
    "\n",
    "def make_frames(i):\n",
    "    rao = test.loc[test.movietime <= 2 * i, :]\n",
    "    raow = rao.index.values[-1] if len(rao) > 1 else 0\n",
    "    raow = test.loc[raow, :]\n",
    "    if 2 * i > test.loc[0, 'movietime']:\n",
    "        ax = plot_position(raow)\n",
    "    else:\n",
    "        ax = plt.gca()\n",
    "    return ax\n",
    "\n",
    "f, axes = plt.subplots(1, 1, figsize=(15, 15), squeeze=False)\n",
    "\n",
    "movie = ani.FuncAnimation(f, make_frames, init_func=movie_init, frames=nframes, interval=100, blit=False);\n",
    "movie.save(figure_out + 'test_movie3.mp4', writer='mencoder');"
   ]
  },
  {
   "cell_type": "code",
   "execution_count": null,
   "metadata": {
    "collapsed": true,
    "deletable": true,
    "editable": true
   },
   "outputs": [],
   "source": []
  }
 ],
 "metadata": {
  "kernelspec": {
   "display_name": "Python [default]",
   "language": "python",
   "name": "python3"
  },
  "language_info": {
   "codemirror_mode": {
    "name": "ipython",
    "version": 3
   },
   "file_extension": ".py",
   "mimetype": "text/x-python",
   "name": "python",
   "nbconvert_exporter": "python",
   "pygments_lexer": "ipython3",
   "version": "3.5.2"
  }
 },
 "nbformat": 4,
 "nbformat_minor": 0
}
